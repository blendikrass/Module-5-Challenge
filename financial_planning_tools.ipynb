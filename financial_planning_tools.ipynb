{
 "cells": [
  {
   "cell_type": "markdown",
   "metadata": {},
   "source": [
    "# Financial Planning with APIs and Simulations\n",
    "\n",
    "In this Challenge, you’ll create two financial analysis tools by using a single Jupyter notebook:\n",
    "\n",
    "Part 1: A financial planner for emergencies. The members will be able to use this tool to visualize their current savings. The members can then determine if they have enough reserves for an emergency fund.\n",
    "\n",
    "Part 2: A financial planner for retirement. This tool will forecast the performance of their retirement portfolio in 30 years. To do this, the tool will make an Alpaca API call via the Alpaca SDK to get historical price data for use in Monte Carlo simulations.\n",
    "\n",
    "You’ll use the information from the Monte Carlo simulation to answer questions about the portfolio in your Jupyter notebook.\n",
    "\n"
   ]
  },
  {
   "cell_type": "code",
   "execution_count": 222,
   "metadata": {},
   "outputs": [],
   "source": [
    "# Import the required libraries and dependencies\n",
    "import os\n",
    "import requests\n",
    "import json\n",
    "import pandas as pd\n",
    "from dotenv import load_dotenv\n",
    "import alpaca_trade_api as tradeapi\n",
    "from MCForecastTools import MCSimulation\n",
    "\n",
    "import warnings\n",
    "warnings.filterwarnings(\"ignore\")\n",
    "\n",
    "%matplotlib inline"
   ]
  },
  {
   "cell_type": "code",
   "execution_count": 3,
   "metadata": {},
   "outputs": [
    {
     "data": {
      "text/plain": [
       "True"
      ]
     },
     "execution_count": 3,
     "metadata": {},
     "output_type": "execute_result"
    }
   ],
   "source": [
    "# Load the environment variables from the .env file\n",
    "#by calling the load_dotenv function\n",
    "load_dotenv()\n"
   ]
  },
  {
   "cell_type": "code",
   "execution_count": 23,
   "metadata": {},
   "outputs": [
    {
     "data": {
      "text/plain": [
       "str"
      ]
     },
     "metadata": {},
     "output_type": "display_data"
    },
    {
     "data": {
      "text/plain": [
       "str"
      ]
     },
     "metadata": {},
     "output_type": "display_data"
    }
   ],
   "source": [
    "alpaca_api_key = \"PKYWJTKIATH6JQVBWW9N\"\n",
    "alpaca_secret_key = \"GOwmtWdCJIKLmnIcgMekLhxlZzqGSCKZwx3EyxsQ\"\n",
    "\n",
    "display(type(alpaca_api_key))\n",
    "display(type(alpaca_secret_key))"
   ]
  },
  {
   "cell_type": "markdown",
   "metadata": {},
   "source": [
    "## Part 1: Create a Financial Planner for Emergencies"
   ]
  },
  {
   "cell_type": "markdown",
   "metadata": {},
   "source": [
    "### Evaluate the Cryptocurrency Wallet by Using the Requests Library\n",
    "\n",
    "In this section, you’ll determine the current value of a member’s cryptocurrency wallet. You’ll collect the current prices for the Bitcoin and Ethereum cryptocurrencies by using the Python Requests library. For the prototype, you’ll assume that the member holds the 1.2 Bitcoins (BTC) and 5.3 Ethereum coins (ETH). To do all this, complete the following steps:\n",
    "\n",
    "1. Create a variable named `monthly_income`, and set its value to `12000`.\n",
    "\n",
    "2. Use the Requests library to get the current price (in US dollars) of Bitcoin (BTC) and Ethereum (ETH) by using the API endpoints that the starter code supplies.\n",
    "\n",
    "3. Navigate the JSON response object to access the current price of each coin, and store each in a variable.\n",
    "\n",
    "    > **Hint** Note the specific identifier for each cryptocurrency in the API JSON response. The Bitcoin identifier is `1`, and the Ethereum identifier is `1027`.\n",
    "\n",
    "4. Calculate the value, in US dollars, of the current amount of each cryptocurrency and of the entire cryptocurrency wallet.\n",
    "\n"
   ]
  },
  {
   "cell_type": "code",
   "execution_count": 24,
   "metadata": {},
   "outputs": [],
   "source": [
    "# The current number of coins for each cryptocurrency asset held in the portfolio.\n",
    "btc_coins = 1.2\n",
    "eth_coins = 5.3"
   ]
  },
  {
   "cell_type": "markdown",
   "metadata": {},
   "source": [
    "#### Step 1: Create a variable named `monthly_income`, and set its value to `12000`."
   ]
  },
  {
   "cell_type": "code",
   "execution_count": 25,
   "metadata": {},
   "outputs": [],
   "source": [
    "# The monthly amount for the member's household income\n",
    "monthly_income=12000"
   ]
  },
  {
   "cell_type": "markdown",
   "metadata": {},
   "source": [
    "#### Review the endpoint URLs for the API calls to Free Crypto API in order to get the current pricing information for both BTC and ETH."
   ]
  },
  {
   "cell_type": "code",
   "execution_count": 26,
   "metadata": {},
   "outputs": [],
   "source": [
    "# The Free Crypto API Call endpoint URLs for the held cryptocurrency assets\n",
    "btc_url = \"https://api.alternative.me/v2/ticker/Bitcoin/?convert=USD\"\n",
    "eth_url = \"https://api.alternative.me/v2/ticker/Ethereum/?convert=USD\""
   ]
  },
  {
   "cell_type": "markdown",
   "metadata": {},
   "source": [
    "#### Step 2. Use the Requests library to get the current price (in US dollars) of Bitcoin (BTC) and Ethereum (ETH) by using the API endpoints that the starter code supplied."
   ]
  },
  {
   "cell_type": "code",
   "execution_count": 54,
   "metadata": {},
   "outputs": [
    {
     "name": "stdout",
     "output_type": "stream",
     "text": [
      "{\n",
      "   \"data\": {\n",
      "      \"1\": {\n",
      "         \"circulating_supply\": 19141487,\n",
      "         \"id\": 1,\n",
      "         \"last_updated\": 1662325497,\n",
      "         \"max_supply\": 21000000,\n",
      "         \"name\": \"Bitcoin\",\n",
      "         \"quotes\": {\n",
      "            \"USD\": {\n",
      "               \"market_cap\": 381075814578,\n",
      "               \"percent_change_1h\": 0.0679773424275674,\n",
      "               \"percent_change_24h\": 0.833339915843657,\n",
      "               \"percent_change_7d\": -0.811988396288418,\n",
      "               \"percentage_change_1h\": 0.0679773424275674,\n",
      "               \"percentage_change_24h\": 0.833339915843657,\n",
      "               \"percentage_change_7d\": -0.811988396288418,\n",
      "               \"price\": 19906.99,\n",
      "               \"volume_24h\": 20613754111\n",
      "            }\n",
      "         },\n",
      "         \"rank\": 1,\n",
      "         \"symbol\": \"BTC\",\n",
      "         \"total_supply\": 19141487,\n",
      "         \"website_slug\": \"bitcoin\"\n",
      "      }\n",
      "   },\n",
      "   \"metadata\": {\n",
      "      \"error\": null,\n",
      "      \"num_cryptocurrencies\": 3116,\n",
      "      \"timestamp\": 1662325497\n",
      "   }\n",
      "}\n"
     ]
    }
   ],
   "source": [
    "# Using the Python requests library, make an API call to access the current price of BTC\n",
    "btc_response = requests.get(btc_url).json()\n",
    "# Use the json.dumps function to review the response data from the API call\n",
    "# Use the indent and sort_keys parameters to make the response object readable\n",
    "print(json.dumps(btc_response, indent=3, sort_keys=True))"
   ]
  },
  {
   "cell_type": "code",
   "execution_count": 63,
   "metadata": {},
   "outputs": [
    {
     "name": "stdout",
     "output_type": "stream",
     "text": [
      "{\n",
      "  \"data\": {\n",
      "    \"1027\": {\n",
      "      \"circulating_supply\": 120384056,\n",
      "      \"id\": 1027,\n",
      "      \"last_updated\": 1662325458,\n",
      "      \"max_supply\": 120381429,\n",
      "      \"name\": \"Ethereum\",\n",
      "      \"quotes\": {\n",
      "        \"USD\": {\n",
      "          \"market_cap\": 189152625198,\n",
      "          \"percent_change_1h\": 0.205087810027474,\n",
      "          \"percent_change_24h\": 1.15687979933089,\n",
      "          \"percent_change_7d\": 5.04032843886308,\n",
      "          \"percentage_change_1h\": 0.205087810027474,\n",
      "          \"percentage_change_24h\": 1.15687979933089,\n",
      "          \"percentage_change_7d\": 5.04032843886308,\n",
      "          \"price\": 1571.46,\n",
      "          \"volume_24h\": 7452027910\n",
      "        }\n",
      "      },\n",
      "      \"rank\": 2,\n",
      "      \"symbol\": \"ETH\",\n",
      "      \"total_supply\": 120384056,\n",
      "      \"website_slug\": \"ethereum\"\n",
      "    }\n",
      "  },\n",
      "  \"metadata\": {\n",
      "    \"error\": null,\n",
      "    \"num_cryptocurrencies\": 3116,\n",
      "    \"timestamp\": 1662325458\n",
      "  }\n",
      "}\n"
     ]
    }
   ],
   "source": [
    "# Using the Python requests library, make an API call to access the current price ETH\n",
    "eth_response = requests.get(eth_url).json()\n",
    "\n",
    "# Use the json.dumps function to review the response data from the API call\n",
    "# Use the indent and sort_keys parameters to make the response object readable\n",
    "print(json.dumps(eth_response, sort_keys=True, indent=2))"
   ]
  },
  {
   "cell_type": "markdown",
   "metadata": {},
   "source": [
    "#### Step 3: Navigate the JSON response object to access the current price of each coin, and store each in a variable."
   ]
  },
  {
   "cell_type": "code",
   "execution_count": 67,
   "metadata": {},
   "outputs": [
    {
     "data": {
      "text/plain": [
       "19906.99"
      ]
     },
     "execution_count": 67,
     "metadata": {},
     "output_type": "execute_result"
    }
   ],
   "source": [
    "# Navigate the BTC response object to access the current price of BTC\n",
    "btc_price = btc_response[\"data\"][\"1\"]['quotes']['USD']['price']\n",
    "# Print the current price of BTC\n",
    "btc_price"
   ]
  },
  {
   "cell_type": "code",
   "execution_count": 68,
   "metadata": {},
   "outputs": [
    {
     "data": {
      "text/plain": [
       "1571.46"
      ]
     },
     "execution_count": 68,
     "metadata": {},
     "output_type": "execute_result"
    }
   ],
   "source": [
    "# Navigate the BTC response object to access the current price of ETH\n",
    "eth_price = eth_response[\"data\"][\"1027\"]['quotes']['USD']['price']\n",
    "\n",
    "# Print the current price of ETH\n",
    "eth_price\n"
   ]
  },
  {
   "cell_type": "markdown",
   "metadata": {},
   "source": [
    "### Step 4: Calculate the value, in US dollars, of the current amount of each cryptocurrency and of the entire cryptocurrency wallet."
   ]
  },
  {
   "cell_type": "code",
   "execution_count": 69,
   "metadata": {},
   "outputs": [
    {
     "data": {
      "text/plain": [
       "23888.388000000003"
      ]
     },
     "execution_count": 69,
     "metadata": {},
     "output_type": "execute_result"
    }
   ],
   "source": [
    "# Compute the current value of the BTC holding \n",
    "btc_value = btc_price * btc_coins\n",
    "\n",
    "# Print current value of your holding in BTC\n",
    "btc_value"
   ]
  },
  {
   "cell_type": "code",
   "execution_count": 70,
   "metadata": {},
   "outputs": [
    {
     "data": {
      "text/plain": [
       "8328.738"
      ]
     },
     "execution_count": 70,
     "metadata": {},
     "output_type": "execute_result"
    }
   ],
   "source": [
    "# Compute the current value of the ETH holding \n",
    "eth_value = eth_price * eth_coins\n",
    "\n",
    "# Print current value of your holding in ETH\n",
    "eth_value"
   ]
  },
  {
   "cell_type": "code",
   "execution_count": 71,
   "metadata": {},
   "outputs": [
    {
     "data": {
      "text/plain": [
       "32217.126000000004"
      ]
     },
     "execution_count": 71,
     "metadata": {},
     "output_type": "execute_result"
    }
   ],
   "source": [
    "# Compute the total value of the cryptocurrency wallet\n",
    "# Add the value of the BTC holding to the value of the ETH holding\n",
    "total_crypto_wallet = btc_value + eth_value\n",
    "\n",
    "# Print current cryptocurrency wallet balance\n",
    "total_crypto_wallet"
   ]
  },
  {
   "cell_type": "markdown",
   "metadata": {},
   "source": [
    "### Evaluate the Stock and Bond Holdings by Using the Alpaca SDK\n",
    "\n",
    "In this section, you’ll determine the current value of a member’s stock and bond holdings. You’ll make an API call to Alpaca via the Alpaca SDK to get the current closing prices of the SPDR S&P 500 ETF Trust (ticker: SPY) and of the iShares Core US Aggregate Bond ETF (ticker: AGG). For the prototype, assume that the member holds 110 shares of SPY, which represents the stock portion of their portfolio, and 200 shares of AGG, which represents the bond portion. To do all this, complete the following steps:\n",
    "\n",
    "1. In the `Starter_Code` folder, create an environment file (`.env`) to store the values of your Alpaca API key and Alpaca secret key.\n",
    "\n",
    "2. Set the variables for the Alpaca API and secret keys. Using the Alpaca SDK, create the Alpaca `tradeapi.REST` object. In this object, include the parameters for the Alpaca API key, the secret key, and the version number.\n",
    "\n",
    "3. Set the following parameters for the Alpaca API call:\n",
    "\n",
    "    - `tickers`: Use the tickers for the member’s stock and bond holdings.\n",
    "\n",
    "    - `timeframe`: Use a time frame of one day.\n",
    "\n",
    "    - `start_date` and `end_date`: Use the same date for these parameters, and format them with the date of the previous weekday (or `2020-08-07`). This is because you want the one closing price for the most-recent trading day.\n",
    "\n",
    "4. Get the current closing prices for `SPY` and `AGG` by using the Alpaca `get_bars` function. Format the response as a Pandas DataFrame by including the `df` property at the end of the `get_bars` function.\n",
    "\n",
    "5. Navigating the Alpaca response DataFrame, select the `SPY` and `AGG` closing prices, and store them as variables.\n",
    "\n",
    "6. Calculate the value, in US dollars, of the current amount of shares in each of the stock and bond portions of the portfolio, and print the results.\n"
   ]
  },
  {
   "cell_type": "markdown",
   "metadata": {},
   "source": [
    "#### Review the total number of shares held in both (SPY) and (AGG)."
   ]
  },
  {
   "cell_type": "code",
   "execution_count": 72,
   "metadata": {},
   "outputs": [],
   "source": [
    "# Current amount of shares held in both the stock (SPY) and bond (AGG) portion of the portfolio.\n",
    "spy_shares = 110\n",
    "agg_shares = 200\n"
   ]
  },
  {
   "cell_type": "markdown",
   "metadata": {},
   "source": [
    "#### Step 1: In the `Starter_Code` folder, create an environment file (`.env`) to store the values of your Alpaca API key and Alpaca secret key."
   ]
  },
  {
   "cell_type": "markdown",
   "metadata": {},
   "source": [
    "#### Step 2: Set the variables for the Alpaca API and secret keys. Using the Alpaca SDK, create the Alpaca `tradeapi.REST` object. In this object, include the parameters for the Alpaca API key, the secret key, and the version number."
   ]
  },
  {
   "cell_type": "code",
   "execution_count": 78,
   "metadata": {},
   "outputs": [
    {
     "data": {
      "text/plain": [
       "str"
      ]
     },
     "metadata": {},
     "output_type": "display_data"
    },
    {
     "data": {
      "text/plain": [
       "str"
      ]
     },
     "metadata": {},
     "output_type": "display_data"
    }
   ],
   "source": [
    "# Set the variables for the Alpaca API and secret keys\n",
    "alpaca_api_key = \"PKYWJTKIATH6JQVBWW9N\"\n",
    "alpaca_secret_key = \"GOwmtWdCJIKLmnIcgMekLhxlZzqGSCKZwx3EyxsQ\"\n",
    "\n",
    "display(type(alpaca_api_key))\n",
    "display(type(alpaca_secret_key))\n",
    "\n",
    "# Create the Alpaca tradeapi.REST object\n",
    "alpaca = tradeapi.REST(alpaca_api_key, alpaca_secret_key, api_version='v2}')"
   ]
  },
  {
   "cell_type": "markdown",
   "metadata": {},
   "source": [
    "#### Step 3: Set the following parameters for the Alpaca API call:\n",
    "\n",
    "- `tickers`: Use the tickers for the member’s stock and bond holdings.\n",
    "\n",
    "- `timeframe`: Use a time frame of one day.\n",
    "\n",
    "- `start_date` and `end_date`: Use the same date for these parameters, and format them with the date of the previous weekday (or `2020-08-07`). This is because you want the one closing price for the most-recent trading day.\n"
   ]
  },
  {
   "cell_type": "code",
   "execution_count": 171,
   "metadata": {},
   "outputs": [],
   "source": [
    "# Set the tickers for both the bond and stock portion of the portfolio\n",
    "tickers = ['SPY', 'AGG']\n",
    "# Set timeframe to 1Day\n",
    "timeframe='1Day'\n",
    "# Format current date as ISO format\n",
    "# Set both the start and end date at the date of your prior weekday \n",
    "# This will give you the closing price of the previous trading day\n",
    "# Alternatively you can use a start and end date of 2020-08-07\n",
    "start_date = pd.Timestamp('2022-09-02', tz=\"America/New_York\").isoformat()\n",
    "end_date = pd.Timestamp('2022-09-02', tz=\"America/New_York\").isoformat()"
   ]
  },
  {
   "cell_type": "markdown",
   "metadata": {},
   "source": [
    "#### Step 4: Get the current closing prices for `SPY` and `AGG` by using the Alpaca `get_bars` function. Format the response as a Pandas DataFrame by including the `df` property at the end of the `get_bars` function."
   ]
  },
  {
   "cell_type": "code",
   "execution_count": 172,
   "metadata": {},
   "outputs": [
    {
     "data": {
      "text/html": [
       "<div>\n",
       "<style scoped>\n",
       "    .dataframe tbody tr th:only-of-type {\n",
       "        vertical-align: middle;\n",
       "    }\n",
       "\n",
       "    .dataframe tbody tr th {\n",
       "        vertical-align: top;\n",
       "    }\n",
       "\n",
       "    .dataframe thead tr th {\n",
       "        text-align: left;\n",
       "    }\n",
       "\n",
       "    .dataframe thead tr:last-of-type th {\n",
       "        text-align: right;\n",
       "    }\n",
       "</style>\n",
       "<table border=\"1\" class=\"dataframe\">\n",
       "  <thead>\n",
       "    <tr>\n",
       "      <th></th>\n",
       "      <th colspan=\"7\" halign=\"left\">SPY</th>\n",
       "      <th colspan=\"7\" halign=\"left\">AGG</th>\n",
       "    </tr>\n",
       "    <tr>\n",
       "      <th></th>\n",
       "      <th>open</th>\n",
       "      <th>high</th>\n",
       "      <th>low</th>\n",
       "      <th>close</th>\n",
       "      <th>volume</th>\n",
       "      <th>trade_count</th>\n",
       "      <th>vwap</th>\n",
       "      <th>open</th>\n",
       "      <th>high</th>\n",
       "      <th>low</th>\n",
       "      <th>close</th>\n",
       "      <th>volume</th>\n",
       "      <th>trade_count</th>\n",
       "      <th>vwap</th>\n",
       "    </tr>\n",
       "    <tr>\n",
       "      <th>timestamp</th>\n",
       "      <th></th>\n",
       "      <th></th>\n",
       "      <th></th>\n",
       "      <th></th>\n",
       "      <th></th>\n",
       "      <th></th>\n",
       "      <th></th>\n",
       "      <th></th>\n",
       "      <th></th>\n",
       "      <th></th>\n",
       "      <th></th>\n",
       "      <th></th>\n",
       "      <th></th>\n",
       "      <th></th>\n",
       "    </tr>\n",
       "  </thead>\n",
       "  <tbody>\n",
       "    <tr>\n",
       "      <th>2022-09-02 04:00:00+00:00</th>\n",
       "      <td>400.3</td>\n",
       "      <td>401.555</td>\n",
       "      <td>390.33</td>\n",
       "      <td>392.24</td>\n",
       "      <td>98944421</td>\n",
       "      <td>637607</td>\n",
       "      <td>395.381705</td>\n",
       "      <td>100.37</td>\n",
       "      <td>100.67</td>\n",
       "      <td>100.13</td>\n",
       "      <td>100.36</td>\n",
       "      <td>5963968</td>\n",
       "      <td>18228</td>\n",
       "      <td>100.362232</td>\n",
       "    </tr>\n",
       "  </tbody>\n",
       "</table>\n",
       "</div>"
      ],
      "text/plain": [
       "                             SPY                                     \\\n",
       "                            open     high     low   close    volume   \n",
       "timestamp                                                             \n",
       "2022-09-02 04:00:00+00:00  400.3  401.555  390.33  392.24  98944421   \n",
       "\n",
       "                                                      AGG                  \\\n",
       "                          trade_count        vwap    open    high     low   \n",
       "timestamp                                                                   \n",
       "2022-09-02 04:00:00+00:00      637607  395.381705  100.37  100.67  100.13   \n",
       "\n",
       "                                                                    \n",
       "                            close   volume trade_count        vwap  \n",
       "timestamp                                                           \n",
       "2022-09-02 04:00:00+00:00  100.36  5963968       18228  100.362232  "
      ]
     },
     "execution_count": 172,
     "metadata": {},
     "output_type": "execute_result"
    }
   ],
   "source": [
    "# Use the Alpaca get_bars function to get current closing prices the portfolio\n",
    "# Be sure to set the `df` property after the function to format the response object as a DataFrame\n",
    "df_portfolio = alpaca.get_bars(\n",
    "    tickers, \n",
    "    timeframe,\n",
    "    start=start_date,\n",
    "    end=end_date\n",
    ").df\n",
    "\n",
    "# Reorganize the DataFrame\n",
    "# Separate ticker data\n",
    "SPY = df_portfolio[df_portfolio['symbol']=='SPY'].drop('symbol', axis=1)\n",
    "AGG = df_portfolio[df_portfolio['symbol']=='AGG'].drop('symbol', axis=1)\n",
    "\n",
    "# Concatenate the ticker DataFrames\n",
    "df_portfolio = pd.concat([SPY, AGG], axis=1, keys=['SPY', 'AGG'])\n",
    "\n",
    "# Review the first 5 rows of the Alpaca DataFrame\n",
    "df_portfolio.head(10)\n",
    "\n"
   ]
  },
  {
   "cell_type": "markdown",
   "metadata": {},
   "source": [
    "#### Step 5: Navigating the Alpaca response DataFrame, select the `SPY` and `AGG` closing prices, and store them as variables."
   ]
  },
  {
   "cell_type": "code",
   "execution_count": 173,
   "metadata": {},
   "outputs": [
    {
     "data": {
      "text/plain": [
       "timestamp\n",
       "2022-09-02 04:00:00+00:00    100.36\n",
       "Name: close, dtype: float64"
      ]
     },
     "execution_count": 173,
     "metadata": {},
     "output_type": "execute_result"
    }
   ],
   "source": [
    "# Access the closing price for AGG from the Alpaca DataFrame\n",
    "# Converting the value to a floating point number\n",
    "agg_close_price = df_portfolio['AGG']['close']\n",
    "\n",
    "# Print the AGG closing price\n",
    "agg_close_price"
   ]
  },
  {
   "cell_type": "code",
   "execution_count": 174,
   "metadata": {},
   "outputs": [
    {
     "data": {
      "text/plain": [
       "timestamp\n",
       "2022-09-02 04:00:00+00:00    392.24\n",
       "Name: close, dtype: float64"
      ]
     },
     "execution_count": 174,
     "metadata": {},
     "output_type": "execute_result"
    }
   ],
   "source": [
    "# Access the closing price for SPY from the Alpaca DataFrame\n",
    "# Converting the value to a floating point number\n",
    "spy_close_price =df_portfolio['SPY']['close']\n",
    "\n",
    "# Print the SPY closing price\n",
    "spy_close_price\n"
   ]
  },
  {
   "cell_type": "markdown",
   "metadata": {},
   "source": [
    "#### Step 6: Calculate the value, in US dollars, of the current amount of shares in each of the stock and bond portions of the portfolio, and print the results."
   ]
  },
  {
   "cell_type": "code",
   "execution_count": 175,
   "metadata": {},
   "outputs": [
    {
     "data": {
      "text/plain": [
       "timestamp\n",
       "2022-09-02 04:00:00+00:00    20072.0\n",
       "Name: close, dtype: float64"
      ]
     },
     "execution_count": 175,
     "metadata": {},
     "output_type": "execute_result"
    }
   ],
   "source": [
    "# Calculate the current value of the bond portion of the portfolio\n",
    "agg_value = agg_close_price * agg_shares\n",
    "\n",
    "# Print the current value of the bond portfolio\n",
    "agg_value"
   ]
  },
  {
   "cell_type": "code",
   "execution_count": 176,
   "metadata": {},
   "outputs": [
    {
     "data": {
      "text/plain": [
       "timestamp\n",
       "2022-09-02 04:00:00+00:00    43146.4\n",
       "Name: close, dtype: float64"
      ]
     },
     "execution_count": 176,
     "metadata": {},
     "output_type": "execute_result"
    }
   ],
   "source": [
    "# Calculate the current value of the stock portion of the portfolio\n",
    "spy_value = spy_close_price * spy_shares\n",
    "\n",
    "# Print the current value of the stock portfolio\n",
    "spy_value"
   ]
  },
  {
   "cell_type": "code",
   "execution_count": 177,
   "metadata": {},
   "outputs": [
    {
     "data": {
      "text/plain": [
       "63218.4"
      ]
     },
     "execution_count": 177,
     "metadata": {},
     "output_type": "execute_result"
    }
   ],
   "source": [
    "# Calculate the total value of the stock and bond portion of the portfolio\n",
    "total_stocks_bonds = spy_value[0] + agg_value[0]\n",
    "\n",
    "# Print the current balance of the stock and bond portion of the portfolio\n",
    "total_stocks_bonds"
   ]
  },
  {
   "cell_type": "code",
   "execution_count": 178,
   "metadata": {},
   "outputs": [
    {
     "data": {
      "text/plain": [
       "95435.52600000001"
      ]
     },
     "execution_count": 178,
     "metadata": {},
     "output_type": "execute_result"
    }
   ],
   "source": [
    "# Calculate the total value of the member's entire savings portfolio\n",
    "# Add the value of the cryptocurrency walled to the value of the total stocks and bonds\n",
    "total_portfolio = total_crypto_wallet + total_stocks_bonds\n",
    "\n",
    "# Print current cryptocurrency wallet balance\n",
    "total_portfolio"
   ]
  },
  {
   "cell_type": "markdown",
   "metadata": {},
   "source": [
    "### Evaluate the Emergency Fund\n",
    "\n",
    "In this section, you’ll use the valuations for the cryptocurrency wallet and for the stock and bond portions of the portfolio to determine if the credit union member has enough savings to build an emergency fund into their financial plan. To do this, complete the following steps:\n",
    "\n",
    "1. Create a Python list named `savings_data` that has two elements. The first element contains the total value of the cryptocurrency wallet. The second element contains the total value of the stock and bond portions of the portfolio.\n",
    "\n",
    "2. Use the `savings_data` list to create a Pandas DataFrame named `savings_df`, and then display this DataFrame. The function to create the DataFrame should take the following three parameters:\n",
    "\n",
    "    - `savings_data`: Use the list that you just created.\n",
    "\n",
    "    - `columns`: Set this parameter equal to a Python list with a single value called `amount`.\n",
    "\n",
    "    - `index`: Set this parameter equal to a Python list with the values of `crypto` and `stock/bond`.\n",
    "\n",
    "3. Use the `savings_df` DataFrame to plot a pie chart that visualizes the composition of the member’s portfolio. The y-axis of the pie chart uses `amount`. Be sure to add a title.\n",
    "\n",
    "4. Using Python, determine if the current portfolio has enough to create an emergency fund as part of the member’s financial plan. Ideally, an emergency fund should equal to three times the member’s monthly income. To do this, implement the following steps:\n",
    "\n",
    "    1. Create a variable named `emergency_fund_value`, and set it equal to three times the value of the member’s `monthly_income` of $12000. (You set this earlier in Part 1).\n",
    "\n",
    "    2. Create a series of three if statements to determine if the member’s total portfolio is large enough to fund the emergency portfolio:\n",
    "\n",
    "        1. If the total portfolio value is greater than the emergency fund value, display a message congratulating the member for having enough money in this fund.\n",
    "\n",
    "        2. Else if the total portfolio value is equal to the emergency fund value, display a message congratulating the member on reaching this important financial goal.\n",
    "\n",
    "        3. Else the total portfolio is less than the emergency fund value, so display a message showing how many dollars away the member is from reaching the goal. (Subtract the total portfolio value from the emergency fund value.)\n"
   ]
  },
  {
   "cell_type": "markdown",
   "metadata": {},
   "source": [
    "#### Step 1: Create a Python list named `savings_data` that has two elements. The first element contains the total value of the cryptocurrency wallet. The second element contains the total value of the stock and bond portions of the portfolio."
   ]
  },
  {
   "cell_type": "code",
   "execution_count": 179,
   "metadata": {},
   "outputs": [
    {
     "data": {
      "text/plain": [
       "[32217.126000000004, 63218.4]"
      ]
     },
     "execution_count": 179,
     "metadata": {},
     "output_type": "execute_result"
    }
   ],
   "source": [
    "# Consolidate financial assets data into a Python list\n",
    "savings_data = [total_crypto_wallet, total_stocks_bonds]\n",
    "# Review the Python list savings_data\n",
    "savings_data    "
   ]
  },
  {
   "cell_type": "markdown",
   "metadata": {},
   "source": [
    "#### Step 2: Use the `savings_data` list to create a Pandas DataFrame named `savings_df`, and then display this DataFrame. The function to create the DataFrame should take the following three parameters:\n",
    "\n",
    "- `savings_data`: Use the list that you just created.\n",
    "\n",
    "- `columns`: Set this parameter equal to a Python list with a single value called `amount`.\n",
    "\n",
    "- `index`: Set this parameter equal to a Python list with the values of `crypto` and `stock/bond`.\n"
   ]
  },
  {
   "cell_type": "code",
   "execution_count": 180,
   "metadata": {},
   "outputs": [
    {
     "data": {
      "text/html": [
       "<div>\n",
       "<style scoped>\n",
       "    .dataframe tbody tr th:only-of-type {\n",
       "        vertical-align: middle;\n",
       "    }\n",
       "\n",
       "    .dataframe tbody tr th {\n",
       "        vertical-align: top;\n",
       "    }\n",
       "\n",
       "    .dataframe thead th {\n",
       "        text-align: right;\n",
       "    }\n",
       "</style>\n",
       "<table border=\"1\" class=\"dataframe\">\n",
       "  <thead>\n",
       "    <tr style=\"text-align: right;\">\n",
       "      <th></th>\n",
       "      <th>amount</th>\n",
       "    </tr>\n",
       "  </thead>\n",
       "  <tbody>\n",
       "    <tr>\n",
       "      <th>crypto</th>\n",
       "      <td>32217.126</td>\n",
       "    </tr>\n",
       "    <tr>\n",
       "      <th>stock/bond</th>\n",
       "      <td>63218.400</td>\n",
       "    </tr>\n",
       "  </tbody>\n",
       "</table>\n",
       "</div>"
      ],
      "text/plain": [
       "               amount\n",
       "crypto      32217.126\n",
       "stock/bond  63218.400"
      ]
     },
     "execution_count": 180,
     "metadata": {},
     "output_type": "execute_result"
    }
   ],
   "source": [
    "# Create a Pandas DataFrame called savings_df \n",
    "savings_df = pd.DataFrame(savings_data, columns=['amount'],index=['crypto', 'stock/bond'])\n",
    "# Display the savings_df DataFrame\n",
    "savings_df"
   ]
  },
  {
   "cell_type": "markdown",
   "metadata": {},
   "source": [
    "#### Step 3: Use the `savings_df` DataFrame to plot a pie chart that visualizes the composition of the member’s portfolio. The y-axis of the pie chart uses `amount`. Be sure to add a title."
   ]
  },
  {
   "cell_type": "code",
   "execution_count": 181,
   "metadata": {},
   "outputs": [
    {
     "data": {
      "text/plain": [
       "<AxesSubplot:ylabel='amount'>"
      ]
     },
     "execution_count": 181,
     "metadata": {},
     "output_type": "execute_result"
    },
    {
     "data": {
      "image/png": "[encoded data removed]",
      "text/plain": [
       "<Figure size 432x288 with 1 Axes>"
      ]
     },
     "metadata": {},
     "output_type": "display_data"
    }
   ],
   "source": [
    "# Plot the total value of the member's portfolio (crypto and stock/bond) in a pie chart\n",
    "savings_df.plot(kind='pie', y='amount')\n"
   ]
  },
  {
   "cell_type": "markdown",
   "metadata": {},
   "source": [
    "#### Step 4: Using Python, determine if the current portfolio has enough to create an emergency fund as part of the member’s financial plan. Ideally, an emergency fund should equal to three times the member’s monthly income. To do this, implement the following steps:\n",
    "\n",
    "Step 1. Create a variable named `emergency_fund_value`, and set it equal to three times the value of the member’s `monthly_income` of 12000. (You set this earlier in Part 1).\n",
    "\n",
    "Step 2. Create a series of three if statements to determine if the member’s total portfolio is large enough to fund the emergency portfolio:\n",
    "\n",
    "* If the total portfolio value is greater than the emergency fund value, display a message congratulating the member for having enough money in this fund.\n",
    "\n",
    "* Else if the total portfolio value is equal to the emergency fund value, display a message congratulating the member on reaching this important financial goal.\n",
    "\n",
    "* Else the total portfolio is less than the emergency fund value, so display a message showing how many dollars away the member is from reaching the goal. (Subtract the total portfolio value from the emergency fund value.)\n"
   ]
  },
  {
   "cell_type": "markdown",
   "metadata": {},
   "source": [
    "##### Step 4-1: Create a variable named `emergency_fund_value`, and set it equal to three times the value of the member’s `monthly_income` of 12000. (You set this earlier in Part 1)."
   ]
  },
  {
   "cell_type": "code",
   "execution_count": 197,
   "metadata": {},
   "outputs": [],
   "source": [
    "# Create a variable named emergency_fund_value\n",
    "emergency_fund_value = 3 * monthly_income"
   ]
  },
  {
   "cell_type": "markdown",
   "metadata": {},
   "source": [
    "##### Step 4-2: Create a series of three if statements to determine if the member’s total portfolio is large enough to fund the emergency portfolio:\n",
    "\n",
    "* If the total portfolio value is greater than the emergency fund value, display a message congratulating the member for having enough money in this fund.\n",
    "\n",
    "* Else if the total portfolio value is equal to the emergency fund value, display a message congratulating the member on reaching this important financial goal.\n",
    "\n",
    "* Else the total portfolio is less than the emergency fund value, so display a message showing how many dollars away the member is from reaching the goal. (Subtract the total portfolio value from the emergency fund value.)"
   ]
  },
  {
   "cell_type": "code",
   "execution_count": 198,
   "metadata": {},
   "outputs": [
    {
     "name": "stdout",
     "output_type": "stream",
     "text": [
      "Congratulations! You have enough money in this fund.\n"
     ]
    }
   ],
   "source": [
    "# Evaluate the possibility of creating an emergency fund with 3 conditions:\n",
    "if total_portfolio > emergency_fund_value:\n",
    "    print('Congratulations! You have enough money in this fund.')\n",
    "elif total_portfolio == emergency_fund_value:\n",
    "    print('Congratulations! You have reached the important financial goal.')\n",
    "else:\n",
    "    print(f\"You don't have enough money. To reach the goal you need ${total_portfolio - emergency_fund_value}.\")"
   ]
  },
  {
   "cell_type": "markdown",
   "metadata": {},
   "source": [
    "## Part 2: Create a Financial Planner for Retirement"
   ]
  },
  {
   "cell_type": "markdown",
   "metadata": {},
   "source": [
    "### Create the Monte Carlo Simulation\n",
    "\n",
    "In this section, you’ll use the MCForecastTools library to create a Monte Carlo simulation for the member’s savings portfolio. To do this, complete the following steps:\n",
    "\n",
    "1. Make an API call via the Alpaca SDK to get 3 years of historical closing prices for a traditional 60/40 portfolio split: 60% stocks (SPY) and 40% bonds (AGG).\n",
    "\n",
    "2. Run a Monte Carlo simulation of 500 samples and 30 years for the 60/40 portfolio, and then plot the results.The following image shows the overlay line plot resulting from a simulation with these characteristics. However, because a random number generator is used to run each live Monte Carlo simulation, your image will differ slightly from this exact image:\n",
    "\n",
    "![A screenshot depicts the resulting plot.](Images/5-4-monte-carlo-line-plot.png)\n",
    "\n",
    "3. Plot the probability distribution of the Monte Carlo simulation. Plot the probability distribution of the Monte Carlo simulation. The following image shows the histogram plot resulting from a simulation with these characteristics. However, because a random number generator is used to run each live Monte Carlo simulation, your image will differ slightly from this exact image:\n",
    "\n",
    "![A screenshot depicts the histogram plot.](Images/5-4-monte-carlo-histogram.png)\n",
    "\n",
    "4. Generate the summary statistics for the Monte Carlo simulation.\n",
    "\n"
   ]
  },
  {
   "cell_type": "markdown",
   "metadata": {},
   "source": [
    "#### Step 1: Make an API call via the Alpaca SDK to get 3 years of historical closing prices for a traditional 60/40 portfolio split: 60% stocks (SPY) and 40% bonds (AGG)."
   ]
  },
  {
   "cell_type": "code",
   "execution_count": 199,
   "metadata": {},
   "outputs": [],
   "source": [
    "# Set start and end dates of 3 years back from your current date\n",
    "# Alternatively, you can use an end date of 2020-08-07 and work 3 years back from that date \n",
    "start_date = pd.Timestamp('2019-09-02', tz=\"America/New_York\").isoformat()\n",
    "end_date = pd.Timestamp('2022-09-02', tz=\"America/New_York\").isoformat()"
   ]
  },
  {
   "cell_type": "code",
   "execution_count": 201,
   "metadata": {},
   "outputs": [
    {
     "data": {
      "text/html": [
       "<div>\n",
       "<style scoped>\n",
       "    .dataframe tbody tr th:only-of-type {\n",
       "        vertical-align: middle;\n",
       "    }\n",
       "\n",
       "    .dataframe tbody tr th {\n",
       "        vertical-align: top;\n",
       "    }\n",
       "\n",
       "    .dataframe thead tr th {\n",
       "        text-align: left;\n",
       "    }\n",
       "\n",
       "    .dataframe thead tr:last-of-type th {\n",
       "        text-align: right;\n",
       "    }\n",
       "</style>\n",
       "<table border=\"1\" class=\"dataframe\">\n",
       "  <thead>\n",
       "    <tr>\n",
       "      <th></th>\n",
       "      <th colspan=\"7\" halign=\"left\">SPY</th>\n",
       "      <th colspan=\"7\" halign=\"left\">AGG</th>\n",
       "    </tr>\n",
       "    <tr>\n",
       "      <th></th>\n",
       "      <th>open</th>\n",
       "      <th>high</th>\n",
       "      <th>low</th>\n",
       "      <th>close</th>\n",
       "      <th>volume</th>\n",
       "      <th>trade_count</th>\n",
       "      <th>vwap</th>\n",
       "      <th>open</th>\n",
       "      <th>high</th>\n",
       "      <th>low</th>\n",
       "      <th>close</th>\n",
       "      <th>volume</th>\n",
       "      <th>trade_count</th>\n",
       "      <th>vwap</th>\n",
       "    </tr>\n",
       "    <tr>\n",
       "      <th>timestamp</th>\n",
       "      <th></th>\n",
       "      <th></th>\n",
       "      <th></th>\n",
       "      <th></th>\n",
       "      <th></th>\n",
       "      <th></th>\n",
       "      <th></th>\n",
       "      <th></th>\n",
       "      <th></th>\n",
       "      <th></th>\n",
       "      <th></th>\n",
       "      <th></th>\n",
       "      <th></th>\n",
       "      <th></th>\n",
       "    </tr>\n",
       "  </thead>\n",
       "  <tbody>\n",
       "    <tr>\n",
       "      <th>2019-09-03 04:00:00+00:00</th>\n",
       "      <td>290.56</td>\n",
       "      <td>291.580</td>\n",
       "      <td>289.270</td>\n",
       "      <td>290.74</td>\n",
       "      <td>69233875</td>\n",
       "      <td>362212</td>\n",
       "      <td>290.492676</td>\n",
       "      <td>113.84</td>\n",
       "      <td>114.1200</td>\n",
       "      <td>113.690</td>\n",
       "      <td>113.84</td>\n",
       "      <td>6197557</td>\n",
       "      <td>24789</td>\n",
       "      <td>113.939811</td>\n",
       "    </tr>\n",
       "    <tr>\n",
       "      <th>2019-09-04 04:00:00+00:00</th>\n",
       "      <td>293.15</td>\n",
       "      <td>294.055</td>\n",
       "      <td>292.310</td>\n",
       "      <td>294.04</td>\n",
       "      <td>47160461</td>\n",
       "      <td>236850</td>\n",
       "      <td>293.322384</td>\n",
       "      <td>113.82</td>\n",
       "      <td>114.0801</td>\n",
       "      <td>113.820</td>\n",
       "      <td>114.04</td>\n",
       "      <td>3814413</td>\n",
       "      <td>15256</td>\n",
       "      <td>114.008878</td>\n",
       "    </tr>\n",
       "    <tr>\n",
       "      <th>2019-09-05 04:00:00+00:00</th>\n",
       "      <td>296.78</td>\n",
       "      <td>298.830</td>\n",
       "      <td>294.001</td>\n",
       "      <td>297.82</td>\n",
       "      <td>83356779</td>\n",
       "      <td>377089</td>\n",
       "      <td>297.528062</td>\n",
       "      <td>113.61</td>\n",
       "      <td>113.6700</td>\n",
       "      <td>113.300</td>\n",
       "      <td>113.55</td>\n",
       "      <td>5336501</td>\n",
       "      <td>19147</td>\n",
       "      <td>113.455162</td>\n",
       "    </tr>\n",
       "    <tr>\n",
       "      <th>2019-09-06 04:00:00+00:00</th>\n",
       "      <td>298.21</td>\n",
       "      <td>298.760</td>\n",
       "      <td>297.420</td>\n",
       "      <td>298.05</td>\n",
       "      <td>49676444</td>\n",
       "      <td>255431</td>\n",
       "      <td>298.223331</td>\n",
       "      <td>113.66</td>\n",
       "      <td>113.7199</td>\n",
       "      <td>113.555</td>\n",
       "      <td>113.67</td>\n",
       "      <td>3675151</td>\n",
       "      <td>12845</td>\n",
       "      <td>113.658735</td>\n",
       "    </tr>\n",
       "    <tr>\n",
       "      <th>2019-09-09 04:00:00+00:00</th>\n",
       "      <td>299.15</td>\n",
       "      <td>299.240</td>\n",
       "      <td>297.160</td>\n",
       "      <td>298.20</td>\n",
       "      <td>51260290</td>\n",
       "      <td>241462</td>\n",
       "      <td>298.158399</td>\n",
       "      <td>113.39</td>\n",
       "      <td>113.3900</td>\n",
       "      <td>113.180</td>\n",
       "      <td>113.19</td>\n",
       "      <td>2747454</td>\n",
       "      <td>10594</td>\n",
       "      <td>113.266602</td>\n",
       "    </tr>\n",
       "  </tbody>\n",
       "</table>\n",
       "</div>"
      ],
      "text/plain": [
       "                              SPY                                      \\\n",
       "                             open     high      low   close    volume   \n",
       "timestamp                                                               \n",
       "2019-09-03 04:00:00+00:00  290.56  291.580  289.270  290.74  69233875   \n",
       "2019-09-04 04:00:00+00:00  293.15  294.055  292.310  294.04  47160461   \n",
       "2019-09-05 04:00:00+00:00  296.78  298.830  294.001  297.82  83356779   \n",
       "2019-09-06 04:00:00+00:00  298.21  298.760  297.420  298.05  49676444   \n",
       "2019-09-09 04:00:00+00:00  299.15  299.240  297.160  298.20  51260290   \n",
       "\n",
       "                                                      AGG                     \\\n",
       "                          trade_count        vwap    open      high      low   \n",
       "timestamp                                                                      \n",
       "2019-09-03 04:00:00+00:00      362212  290.492676  113.84  114.1200  113.690   \n",
       "2019-09-04 04:00:00+00:00      236850  293.322384  113.82  114.0801  113.820   \n",
       "2019-09-05 04:00:00+00:00      377089  297.528062  113.61  113.6700  113.300   \n",
       "2019-09-06 04:00:00+00:00      255431  298.223331  113.66  113.7199  113.555   \n",
       "2019-09-09 04:00:00+00:00      241462  298.158399  113.39  113.3900  113.180   \n",
       "\n",
       "                                                                    \n",
       "                            close   volume trade_count        vwap  \n",
       "timestamp                                                           \n",
       "2019-09-03 04:00:00+00:00  113.84  6197557       24789  113.939811  \n",
       "2019-09-04 04:00:00+00:00  114.04  3814413       15256  114.008878  \n",
       "2019-09-05 04:00:00+00:00  113.55  5336501       19147  113.455162  \n",
       "2019-09-06 04:00:00+00:00  113.67  3675151       12845  113.658735  \n",
       "2019-09-09 04:00:00+00:00  113.19  2747454       10594  113.266602  "
      ]
     },
     "metadata": {},
     "output_type": "display_data"
    },
    {
     "data": {
      "text/html": [
       "<div>\n",
       "<style scoped>\n",
       "    .dataframe tbody tr th:only-of-type {\n",
       "        vertical-align: middle;\n",
       "    }\n",
       "\n",
       "    .dataframe tbody tr th {\n",
       "        vertical-align: top;\n",
       "    }\n",
       "\n",
       "    .dataframe thead tr th {\n",
       "        text-align: left;\n",
       "    }\n",
       "\n",
       "    .dataframe thead tr:last-of-type th {\n",
       "        text-align: right;\n",
       "    }\n",
       "</style>\n",
       "<table border=\"1\" class=\"dataframe\">\n",
       "  <thead>\n",
       "    <tr>\n",
       "      <th></th>\n",
       "      <th colspan=\"7\" halign=\"left\">SPY</th>\n",
       "      <th colspan=\"7\" halign=\"left\">AGG</th>\n",
       "    </tr>\n",
       "    <tr>\n",
       "      <th></th>\n",
       "      <th>open</th>\n",
       "      <th>high</th>\n",
       "      <th>low</th>\n",
       "      <th>close</th>\n",
       "      <th>volume</th>\n",
       "      <th>trade_count</th>\n",
       "      <th>vwap</th>\n",
       "      <th>open</th>\n",
       "      <th>high</th>\n",
       "      <th>low</th>\n",
       "      <th>close</th>\n",
       "      <th>volume</th>\n",
       "      <th>trade_count</th>\n",
       "      <th>vwap</th>\n",
       "    </tr>\n",
       "    <tr>\n",
       "      <th>timestamp</th>\n",
       "      <th></th>\n",
       "      <th></th>\n",
       "      <th></th>\n",
       "      <th></th>\n",
       "      <th></th>\n",
       "      <th></th>\n",
       "      <th></th>\n",
       "      <th></th>\n",
       "      <th></th>\n",
       "      <th></th>\n",
       "      <th></th>\n",
       "      <th></th>\n",
       "      <th></th>\n",
       "      <th></th>\n",
       "    </tr>\n",
       "  </thead>\n",
       "  <tbody>\n",
       "    <tr>\n",
       "      <th>2022-08-29 04:00:00+00:00</th>\n",
       "      <td>402.23</td>\n",
       "      <td>405.840</td>\n",
       "      <td>401.1999</td>\n",
       "      <td>402.63</td>\n",
       "      <td>65225959</td>\n",
       "      <td>489086</td>\n",
       "      <td>403.552893</td>\n",
       "      <td>101.27</td>\n",
       "      <td>101.280</td>\n",
       "      <td>101.055</td>\n",
       "      <td>101.12</td>\n",
       "      <td>7508760</td>\n",
       "      <td>15383</td>\n",
       "      <td>101.176898</td>\n",
       "    </tr>\n",
       "    <tr>\n",
       "      <th>2022-08-30 04:00:00+00:00</th>\n",
       "      <td>403.85</td>\n",
       "      <td>404.100</td>\n",
       "      <td>396.0000</td>\n",
       "      <td>398.21</td>\n",
       "      <td>85326406</td>\n",
       "      <td>607506</td>\n",
       "      <td>399.084888</td>\n",
       "      <td>101.26</td>\n",
       "      <td>101.445</td>\n",
       "      <td>100.930</td>\n",
       "      <td>101.25</td>\n",
       "      <td>6568895</td>\n",
       "      <td>21158</td>\n",
       "      <td>101.186970</td>\n",
       "    </tr>\n",
       "    <tr>\n",
       "      <th>2022-08-31 04:00:00+00:00</th>\n",
       "      <td>399.92</td>\n",
       "      <td>401.240</td>\n",
       "      <td>395.0400</td>\n",
       "      <td>395.18</td>\n",
       "      <td>75597377</td>\n",
       "      <td>500607</td>\n",
       "      <td>397.214138</td>\n",
       "      <td>101.04</td>\n",
       "      <td>101.230</td>\n",
       "      <td>100.641</td>\n",
       "      <td>100.71</td>\n",
       "      <td>6111923</td>\n",
       "      <td>21955</td>\n",
       "      <td>100.973211</td>\n",
       "    </tr>\n",
       "    <tr>\n",
       "      <th>2022-09-01 04:00:00+00:00</th>\n",
       "      <td>392.88</td>\n",
       "      <td>396.780</td>\n",
       "      <td>390.0400</td>\n",
       "      <td>396.42</td>\n",
       "      <td>78315802</td>\n",
       "      <td>594723</td>\n",
       "      <td>393.055687</td>\n",
       "      <td>100.07</td>\n",
       "      <td>100.145</td>\n",
       "      <td>99.660</td>\n",
       "      <td>100.07</td>\n",
       "      <td>8960595</td>\n",
       "      <td>32259</td>\n",
       "      <td>99.954674</td>\n",
       "    </tr>\n",
       "    <tr>\n",
       "      <th>2022-09-02 04:00:00+00:00</th>\n",
       "      <td>400.30</td>\n",
       "      <td>401.555</td>\n",
       "      <td>390.3300</td>\n",
       "      <td>392.24</td>\n",
       "      <td>98944421</td>\n",
       "      <td>637607</td>\n",
       "      <td>395.381705</td>\n",
       "      <td>100.37</td>\n",
       "      <td>100.670</td>\n",
       "      <td>100.130</td>\n",
       "      <td>100.36</td>\n",
       "      <td>5963968</td>\n",
       "      <td>18228</td>\n",
       "      <td>100.362232</td>\n",
       "    </tr>\n",
       "  </tbody>\n",
       "</table>\n",
       "</div>"
      ],
      "text/plain": [
       "                              SPY                                       \\\n",
       "                             open     high       low   close    volume   \n",
       "timestamp                                                                \n",
       "2022-08-29 04:00:00+00:00  402.23  405.840  401.1999  402.63  65225959   \n",
       "2022-08-30 04:00:00+00:00  403.85  404.100  396.0000  398.21  85326406   \n",
       "2022-08-31 04:00:00+00:00  399.92  401.240  395.0400  395.18  75597377   \n",
       "2022-09-01 04:00:00+00:00  392.88  396.780  390.0400  396.42  78315802   \n",
       "2022-09-02 04:00:00+00:00  400.30  401.555  390.3300  392.24  98944421   \n",
       "\n",
       "                                                      AGG                    \\\n",
       "                          trade_count        vwap    open     high      low   \n",
       "timestamp                                                                     \n",
       "2022-08-29 04:00:00+00:00      489086  403.552893  101.27  101.280  101.055   \n",
       "2022-08-30 04:00:00+00:00      607506  399.084888  101.26  101.445  100.930   \n",
       "2022-08-31 04:00:00+00:00      500607  397.214138  101.04  101.230  100.641   \n",
       "2022-09-01 04:00:00+00:00      594723  393.055687  100.07  100.145   99.660   \n",
       "2022-09-02 04:00:00+00:00      637607  395.381705  100.37  100.670  100.130   \n",
       "\n",
       "                                                                    \n",
       "                            close   volume trade_count        vwap  \n",
       "timestamp                                                           \n",
       "2022-08-29 04:00:00+00:00  101.12  7508760       15383  101.176898  \n",
       "2022-08-30 04:00:00+00:00  101.25  6568895       21158  101.186970  \n",
       "2022-08-31 04:00:00+00:00  100.71  6111923       21955  100.973211  \n",
       "2022-09-01 04:00:00+00:00  100.07  8960595       32259   99.954674  \n",
       "2022-09-02 04:00:00+00:00  100.36  5963968       18228  100.362232  "
      ]
     },
     "metadata": {},
     "output_type": "display_data"
    }
   ],
   "source": [
    "# Use the Alpaca get_bars function to make the API call to get the 3 years worth of pricing data\n",
    "# The tickers and timeframe parameters should have been set in Part 1 of this activity \n",
    "# The start and end dates should be updated with the information set above\n",
    "# Remember to add the df property to the end of the call so the response is returned as a DataFrame\n",
    "df_portfolio = alpaca.get_bars(\n",
    "    tickers,\n",
    "    timeframe,\n",
    "    start=start_date,\n",
    "    end=end_date\n",
    ").df\n",
    "df_portfolio\n",
    "# Reorganize the DataFrame\n",
    "# Separate ticker data\n",
    "SPY = df_portfolio[df_portfolio['symbol']=='SPY'].drop('symbol', axis=1)\n",
    "AGG = df_portfolio[df_portfolio['symbol']=='AGG'].drop('symbol', axis=1)\n",
    "# Concatenate the ticker DataFrames\n",
    "df_portfolio = pd.concat([SPY, AGG], axis=1, keys=['SPY', 'AGG'])\n",
    "# Display both the first and last five rows of the DataFrame\n",
    "display(df_portfolio.head())\n",
    "display(df_portfolio.tail())\n"
   ]
  },
  {
   "cell_type": "markdown",
   "metadata": {},
   "source": [
    "#### Step 2: Run a Monte Carlo simulation of 500 samples and 30 years for the 60/40 portfolio, and then plot the results."
   ]
  },
  {
   "cell_type": "code",
   "execution_count": 214,
   "metadata": {},
   "outputs": [
    {
     "data": {
      "text/html": [
       "<div>\n",
       "<style scoped>\n",
       "    .dataframe tbody tr th:only-of-type {\n",
       "        vertical-align: middle;\n",
       "    }\n",
       "\n",
       "    .dataframe tbody tr th {\n",
       "        vertical-align: top;\n",
       "    }\n",
       "\n",
       "    .dataframe thead tr th {\n",
       "        text-align: left;\n",
       "    }\n",
       "\n",
       "    .dataframe thead tr:last-of-type th {\n",
       "        text-align: right;\n",
       "    }\n",
       "</style>\n",
       "<table border=\"1\" class=\"dataframe\">\n",
       "  <thead>\n",
       "    <tr>\n",
       "      <th></th>\n",
       "      <th colspan=\"8\" halign=\"left\">SPY</th>\n",
       "      <th colspan=\"8\" halign=\"left\">AGG</th>\n",
       "    </tr>\n",
       "    <tr>\n",
       "      <th></th>\n",
       "      <th>open</th>\n",
       "      <th>high</th>\n",
       "      <th>low</th>\n",
       "      <th>close</th>\n",
       "      <th>volume</th>\n",
       "      <th>trade_count</th>\n",
       "      <th>vwap</th>\n",
       "      <th>daily_return</th>\n",
       "      <th>open</th>\n",
       "      <th>high</th>\n",
       "      <th>low</th>\n",
       "      <th>close</th>\n",
       "      <th>volume</th>\n",
       "      <th>trade_count</th>\n",
       "      <th>vwap</th>\n",
       "      <th>daily_return</th>\n",
       "    </tr>\n",
       "    <tr>\n",
       "      <th>timestamp</th>\n",
       "      <th></th>\n",
       "      <th></th>\n",
       "      <th></th>\n",
       "      <th></th>\n",
       "      <th></th>\n",
       "      <th></th>\n",
       "      <th></th>\n",
       "      <th></th>\n",
       "      <th></th>\n",
       "      <th></th>\n",
       "      <th></th>\n",
       "      <th></th>\n",
       "      <th></th>\n",
       "      <th></th>\n",
       "      <th></th>\n",
       "      <th></th>\n",
       "    </tr>\n",
       "  </thead>\n",
       "  <tbody>\n",
       "    <tr>\n",
       "      <th>2019-09-03 04:00:00+00:00</th>\n",
       "      <td>290.56</td>\n",
       "      <td>291.580</td>\n",
       "      <td>289.270</td>\n",
       "      <td>290.74</td>\n",
       "      <td>69233875</td>\n",
       "      <td>362212</td>\n",
       "      <td>290.492676</td>\n",
       "      <td>NaN</td>\n",
       "      <td>113.84</td>\n",
       "      <td>114.1200</td>\n",
       "      <td>113.690</td>\n",
       "      <td>113.84</td>\n",
       "      <td>6197557</td>\n",
       "      <td>24789</td>\n",
       "      <td>113.939811</td>\n",
       "      <td>NaN</td>\n",
       "    </tr>\n",
       "    <tr>\n",
       "      <th>2019-09-04 04:00:00+00:00</th>\n",
       "      <td>293.15</td>\n",
       "      <td>294.055</td>\n",
       "      <td>292.310</td>\n",
       "      <td>294.04</td>\n",
       "      <td>47160461</td>\n",
       "      <td>236850</td>\n",
       "      <td>293.322384</td>\n",
       "      <td>0.011350</td>\n",
       "      <td>113.82</td>\n",
       "      <td>114.0801</td>\n",
       "      <td>113.820</td>\n",
       "      <td>114.04</td>\n",
       "      <td>3814413</td>\n",
       "      <td>15256</td>\n",
       "      <td>114.008878</td>\n",
       "      <td>0.001757</td>\n",
       "    </tr>\n",
       "    <tr>\n",
       "      <th>2019-09-05 04:00:00+00:00</th>\n",
       "      <td>296.78</td>\n",
       "      <td>298.830</td>\n",
       "      <td>294.001</td>\n",
       "      <td>297.82</td>\n",
       "      <td>83356779</td>\n",
       "      <td>377089</td>\n",
       "      <td>297.528062</td>\n",
       "      <td>0.012855</td>\n",
       "      <td>113.61</td>\n",
       "      <td>113.6700</td>\n",
       "      <td>113.300</td>\n",
       "      <td>113.55</td>\n",
       "      <td>5336501</td>\n",
       "      <td>19147</td>\n",
       "      <td>113.455162</td>\n",
       "      <td>-0.004297</td>\n",
       "    </tr>\n",
       "    <tr>\n",
       "      <th>2019-09-06 04:00:00+00:00</th>\n",
       "      <td>298.21</td>\n",
       "      <td>298.760</td>\n",
       "      <td>297.420</td>\n",
       "      <td>298.05</td>\n",
       "      <td>49676444</td>\n",
       "      <td>255431</td>\n",
       "      <td>298.223331</td>\n",
       "      <td>0.000772</td>\n",
       "      <td>113.66</td>\n",
       "      <td>113.7199</td>\n",
       "      <td>113.555</td>\n",
       "      <td>113.67</td>\n",
       "      <td>3675151</td>\n",
       "      <td>12845</td>\n",
       "      <td>113.658735</td>\n",
       "      <td>0.001057</td>\n",
       "    </tr>\n",
       "    <tr>\n",
       "      <th>2019-09-09 04:00:00+00:00</th>\n",
       "      <td>299.15</td>\n",
       "      <td>299.240</td>\n",
       "      <td>297.160</td>\n",
       "      <td>298.20</td>\n",
       "      <td>51260290</td>\n",
       "      <td>241462</td>\n",
       "      <td>298.158399</td>\n",
       "      <td>0.000503</td>\n",
       "      <td>113.39</td>\n",
       "      <td>113.3900</td>\n",
       "      <td>113.180</td>\n",
       "      <td>113.19</td>\n",
       "      <td>2747454</td>\n",
       "      <td>10594</td>\n",
       "      <td>113.266602</td>\n",
       "      <td>-0.004223</td>\n",
       "    </tr>\n",
       "  </tbody>\n",
       "</table>\n",
       "</div>"
      ],
      "text/plain": [
       "                              SPY                                      \\\n",
       "                             open     high      low   close    volume   \n",
       "timestamp                                                               \n",
       "2019-09-03 04:00:00+00:00  290.56  291.580  289.270  290.74  69233875   \n",
       "2019-09-04 04:00:00+00:00  293.15  294.055  292.310  294.04  47160461   \n",
       "2019-09-05 04:00:00+00:00  296.78  298.830  294.001  297.82  83356779   \n",
       "2019-09-06 04:00:00+00:00  298.21  298.760  297.420  298.05  49676444   \n",
       "2019-09-09 04:00:00+00:00  299.15  299.240  297.160  298.20  51260290   \n",
       "\n",
       "                                                                   AGG  \\\n",
       "                          trade_count        vwap daily_return    open   \n",
       "timestamp                                                                \n",
       "2019-09-03 04:00:00+00:00      362212  290.492676          NaN  113.84   \n",
       "2019-09-04 04:00:00+00:00      236850  293.322384     0.011350  113.82   \n",
       "2019-09-05 04:00:00+00:00      377089  297.528062     0.012855  113.61   \n",
       "2019-09-06 04:00:00+00:00      255431  298.223331     0.000772  113.66   \n",
       "2019-09-09 04:00:00+00:00      241462  298.158399     0.000503  113.39   \n",
       "\n",
       "                                                                           \\\n",
       "                               high      low   close   volume trade_count   \n",
       "timestamp                                                                   \n",
       "2019-09-03 04:00:00+00:00  114.1200  113.690  113.84  6197557       24789   \n",
       "2019-09-04 04:00:00+00:00  114.0801  113.820  114.04  3814413       15256   \n",
       "2019-09-05 04:00:00+00:00  113.6700  113.300  113.55  5336501       19147   \n",
       "2019-09-06 04:00:00+00:00  113.7199  113.555  113.67  3675151       12845   \n",
       "2019-09-09 04:00:00+00:00  113.3900  113.180  113.19  2747454       10594   \n",
       "\n",
       "                                                    \n",
       "                                 vwap daily_return  \n",
       "timestamp                                           \n",
       "2019-09-03 04:00:00+00:00  113.939811          NaN  \n",
       "2019-09-04 04:00:00+00:00  114.008878     0.001757  \n",
       "2019-09-05 04:00:00+00:00  113.455162    -0.004297  \n",
       "2019-09-06 04:00:00+00:00  113.658735     0.001057  \n",
       "2019-09-09 04:00:00+00:00  113.266602    -0.004223  "
      ]
     },
     "execution_count": 214,
     "metadata": {},
     "output_type": "execute_result"
    }
   ],
   "source": [
    "# Configure the Monte Carlo simulation to forecast 30 years cumulative returns\n",
    "# The weights should be split 40% to AGG and 60% to SPY.\n",
    "# Run 500 samples.\n",
    "mc_30_years = MCSimulation(\n",
    "    portfolio_data=df_portfolio,\n",
    "    weights=[0.60, 0.40],\n",
    "    num_simulation=500,\n",
    "    num_trading_days=30 * 252)\n",
    "# Review the simulation input data\n",
    "mc_30_years.portfolio_data.head()"
   ]
  },
  {
   "cell_type": "code",
   "execution_count": 223,
   "metadata": {},
   "outputs": [
    {
     "name": "stdout",
     "output_type": "stream",
     "text": [
      "Running Monte Carlo simulation number 0.\n",
      "Running Monte Carlo simulation number 10.\n",
      "Running Monte Carlo simulation number 20.\n",
      "Running Monte Carlo simulation number 30.\n",
      "Running Monte Carlo simulation number 40.\n",
      "Running Monte Carlo simulation number 50.\n",
      "Running Monte Carlo simulation number 60.\n",
      "Running Monte Carlo simulation number 70.\n",
      "Running Monte Carlo simulation number 80.\n",
      "Running Monte Carlo simulation number 90.\n",
      "Running Monte Carlo simulation number 100.\n",
      "Running Monte Carlo simulation number 110.\n",
      "Running Monte Carlo simulation number 120.\n",
      "Running Monte Carlo simulation number 130.\n",
      "Running Monte Carlo simulation number 140.\n",
      "Running Monte Carlo simulation number 150.\n",
      "Running Monte Carlo simulation number 160.\n",
      "Running Monte Carlo simulation number 170.\n",
      "Running Monte Carlo simulation number 180.\n",
      "Running Monte Carlo simulation number 190.\n",
      "Running Monte Carlo simulation number 200.\n",
      "Running Monte Carlo simulation number 210.\n",
      "Running Monte Carlo simulation number 220.\n",
      "Running Monte Carlo simulation number 230.\n",
      "Running Monte Carlo simulation number 240.\n",
      "Running Monte Carlo simulation number 250.\n",
      "Running Monte Carlo simulation number 260.\n",
      "Running Monte Carlo simulation number 270.\n",
      "Running Monte Carlo simulation number 280.\n",
      "Running Monte Carlo simulation number 290.\n",
      "Running Monte Carlo simulation number 300.\n",
      "Running Monte Carlo simulation number 310.\n",
      "Running Monte Carlo simulation number 320.\n",
      "Running Monte Carlo simulation number 330.\n",
      "Running Monte Carlo simulation number 340.\n",
      "Running Monte Carlo simulation number 350.\n",
      "Running Monte Carlo simulation number 360.\n",
      "Running Monte Carlo simulation number 370.\n",
      "Running Monte Carlo simulation number 380.\n",
      "Running Monte Carlo simulation number 390.\n",
      "Running Monte Carlo simulation number 400.\n",
      "Running Monte Carlo simulation number 410.\n",
      "Running Monte Carlo simulation number 420.\n",
      "Running Monte Carlo simulation number 430.\n",
      "Running Monte Carlo simulation number 440.\n",
      "Running Monte Carlo simulation number 450.\n",
      "Running Monte Carlo simulation number 460.\n",
      "Running Monte Carlo simulation number 470.\n",
      "Running Monte Carlo simulation number 480.\n",
      "Running Monte Carlo simulation number 490.\n"
     ]
    },
    {
     "data": {
      "text/html": [
       "<div>\n",
       "<style scoped>\n",
       "    .dataframe tbody tr th:only-of-type {\n",
       "        vertical-align: middle;\n",
       "    }\n",
       "\n",
       "    .dataframe tbody tr th {\n",
       "        vertical-align: top;\n",
       "    }\n",
       "\n",
       "    .dataframe thead th {\n",
       "        text-align: right;\n",
       "    }\n",
       "</style>\n",
       "<table border=\"1\" class=\"dataframe\">\n",
       "  <thead>\n",
       "    <tr style=\"text-align: right;\">\n",
       "      <th></th>\n",
       "      <th>0</th>\n",
       "      <th>1</th>\n",
       "      <th>2</th>\n",
       "      <th>3</th>\n",
       "      <th>4</th>\n",
       "      <th>5</th>\n",
       "      <th>6</th>\n",
       "      <th>7</th>\n",
       "      <th>8</th>\n",
       "      <th>9</th>\n",
       "      <th>...</th>\n",
       "      <th>490</th>\n",
       "      <th>491</th>\n",
       "      <th>492</th>\n",
       "      <th>493</th>\n",
       "      <th>494</th>\n",
       "      <th>495</th>\n",
       "      <th>496</th>\n",
       "      <th>497</th>\n",
       "      <th>498</th>\n",
       "      <th>499</th>\n",
       "    </tr>\n",
       "  </thead>\n",
       "  <tbody>\n",
       "    <tr>\n",
       "      <th>0</th>\n",
       "      <td>1.000000</td>\n",
       "      <td>1.000000</td>\n",
       "      <td>1.000000</td>\n",
       "      <td>1.000000</td>\n",
       "      <td>1.000000</td>\n",
       "      <td>1.000000</td>\n",
       "      <td>1.000000</td>\n",
       "      <td>1.000000</td>\n",
       "      <td>1.000000</td>\n",
       "      <td>1.000000</td>\n",
       "      <td>...</td>\n",
       "      <td>1.000000</td>\n",
       "      <td>1.000000</td>\n",
       "      <td>1.000000</td>\n",
       "      <td>1.000000</td>\n",
       "      <td>1.000000</td>\n",
       "      <td>1.000000</td>\n",
       "      <td>1.000000</td>\n",
       "      <td>1.000000</td>\n",
       "      <td>1.000000</td>\n",
       "      <td>1.000000</td>\n",
       "    </tr>\n",
       "    <tr>\n",
       "      <th>1</th>\n",
       "      <td>0.998011</td>\n",
       "      <td>0.983076</td>\n",
       "      <td>1.004183</td>\n",
       "      <td>1.009847</td>\n",
       "      <td>1.003713</td>\n",
       "      <td>1.004511</td>\n",
       "      <td>1.008503</td>\n",
       "      <td>1.011692</td>\n",
       "      <td>0.987733</td>\n",
       "      <td>1.000460</td>\n",
       "      <td>...</td>\n",
       "      <td>1.004620</td>\n",
       "      <td>1.009721</td>\n",
       "      <td>1.008370</td>\n",
       "      <td>0.996782</td>\n",
       "      <td>0.995922</td>\n",
       "      <td>1.007920</td>\n",
       "      <td>1.001190</td>\n",
       "      <td>0.994938</td>\n",
       "      <td>1.001856</td>\n",
       "      <td>1.008471</td>\n",
       "    </tr>\n",
       "    <tr>\n",
       "      <th>2</th>\n",
       "      <td>0.989724</td>\n",
       "      <td>0.994777</td>\n",
       "      <td>0.995013</td>\n",
       "      <td>1.005553</td>\n",
       "      <td>0.994930</td>\n",
       "      <td>1.014857</td>\n",
       "      <td>1.005804</td>\n",
       "      <td>1.003348</td>\n",
       "      <td>0.978338</td>\n",
       "      <td>0.997051</td>\n",
       "      <td>...</td>\n",
       "      <td>1.003558</td>\n",
       "      <td>1.020038</td>\n",
       "      <td>1.014408</td>\n",
       "      <td>1.001316</td>\n",
       "      <td>1.007309</td>\n",
       "      <td>0.988176</td>\n",
       "      <td>0.992806</td>\n",
       "      <td>0.985673</td>\n",
       "      <td>0.986247</td>\n",
       "      <td>0.989684</td>\n",
       "    </tr>\n",
       "    <tr>\n",
       "      <th>3</th>\n",
       "      <td>0.990099</td>\n",
       "      <td>0.990673</td>\n",
       "      <td>0.992266</td>\n",
       "      <td>0.997419</td>\n",
       "      <td>0.996998</td>\n",
       "      <td>1.000087</td>\n",
       "      <td>0.998314</td>\n",
       "      <td>0.987066</td>\n",
       "      <td>0.972693</td>\n",
       "      <td>1.016428</td>\n",
       "      <td>...</td>\n",
       "      <td>0.992630</td>\n",
       "      <td>1.047247</td>\n",
       "      <td>1.024024</td>\n",
       "      <td>1.010421</td>\n",
       "      <td>1.010478</td>\n",
       "      <td>0.995117</td>\n",
       "      <td>1.001008</td>\n",
       "      <td>0.976879</td>\n",
       "      <td>0.990537</td>\n",
       "      <td>0.971885</td>\n",
       "    </tr>\n",
       "    <tr>\n",
       "      <th>4</th>\n",
       "      <td>0.998778</td>\n",
       "      <td>0.994333</td>\n",
       "      <td>0.986911</td>\n",
       "      <td>1.001270</td>\n",
       "      <td>0.988013</td>\n",
       "      <td>1.003680</td>\n",
       "      <td>0.997947</td>\n",
       "      <td>0.999740</td>\n",
       "      <td>0.968292</td>\n",
       "      <td>1.024653</td>\n",
       "      <td>...</td>\n",
       "      <td>0.996876</td>\n",
       "      <td>1.054566</td>\n",
       "      <td>1.014447</td>\n",
       "      <td>1.004406</td>\n",
       "      <td>0.992143</td>\n",
       "      <td>1.006438</td>\n",
       "      <td>0.994652</td>\n",
       "      <td>0.984386</td>\n",
       "      <td>0.995759</td>\n",
       "      <td>0.964673</td>\n",
       "    </tr>\n",
       "    <tr>\n",
       "      <th>...</th>\n",
       "      <td>...</td>\n",
       "      <td>...</td>\n",
       "      <td>...</td>\n",
       "      <td>...</td>\n",
       "      <td>...</td>\n",
       "      <td>...</td>\n",
       "      <td>...</td>\n",
       "      <td>...</td>\n",
       "      <td>...</td>\n",
       "      <td>...</td>\n",
       "      <td>...</td>\n",
       "      <td>...</td>\n",
       "      <td>...</td>\n",
       "      <td>...</td>\n",
       "      <td>...</td>\n",
       "      <td>...</td>\n",
       "      <td>...</td>\n",
       "      <td>...</td>\n",
       "      <td>...</td>\n",
       "      <td>...</td>\n",
       "      <td>...</td>\n",
       "    </tr>\n",
       "    <tr>\n",
       "      <th>7556</th>\n",
       "      <td>6.980340</td>\n",
       "      <td>5.059923</td>\n",
       "      <td>3.427806</td>\n",
       "      <td>13.201103</td>\n",
       "      <td>9.260000</td>\n",
       "      <td>10.525763</td>\n",
       "      <td>10.162535</td>\n",
       "      <td>9.181684</td>\n",
       "      <td>1.648904</td>\n",
       "      <td>4.576872</td>\n",
       "      <td>...</td>\n",
       "      <td>2.547402</td>\n",
       "      <td>2.987653</td>\n",
       "      <td>4.953931</td>\n",
       "      <td>8.313572</td>\n",
       "      <td>13.065802</td>\n",
       "      <td>1.766151</td>\n",
       "      <td>9.320621</td>\n",
       "      <td>7.731873</td>\n",
       "      <td>1.374485</td>\n",
       "      <td>9.047611</td>\n",
       "    </tr>\n",
       "    <tr>\n",
       "      <th>7557</th>\n",
       "      <td>7.074249</td>\n",
       "      <td>5.009718</td>\n",
       "      <td>3.401549</td>\n",
       "      <td>13.425052</td>\n",
       "      <td>9.260873</td>\n",
       "      <td>10.520860</td>\n",
       "      <td>10.242041</td>\n",
       "      <td>9.141594</td>\n",
       "      <td>1.652430</td>\n",
       "      <td>4.580780</td>\n",
       "      <td>...</td>\n",
       "      <td>2.525636</td>\n",
       "      <td>2.997205</td>\n",
       "      <td>5.029373</td>\n",
       "      <td>8.320551</td>\n",
       "      <td>13.001184</td>\n",
       "      <td>1.777098</td>\n",
       "      <td>9.452877</td>\n",
       "      <td>7.772597</td>\n",
       "      <td>1.375439</td>\n",
       "      <td>8.982018</td>\n",
       "    </tr>\n",
       "    <tr>\n",
       "      <th>7558</th>\n",
       "      <td>7.086779</td>\n",
       "      <td>5.005081</td>\n",
       "      <td>3.389484</td>\n",
       "      <td>13.362528</td>\n",
       "      <td>9.241569</td>\n",
       "      <td>10.367322</td>\n",
       "      <td>10.295893</td>\n",
       "      <td>9.119680</td>\n",
       "      <td>1.669296</td>\n",
       "      <td>4.550841</td>\n",
       "      <td>...</td>\n",
       "      <td>2.551553</td>\n",
       "      <td>2.951422</td>\n",
       "      <td>5.097235</td>\n",
       "      <td>8.332138</td>\n",
       "      <td>12.874178</td>\n",
       "      <td>1.751788</td>\n",
       "      <td>9.473782</td>\n",
       "      <td>7.776671</td>\n",
       "      <td>1.376414</td>\n",
       "      <td>9.054519</td>\n",
       "    </tr>\n",
       "    <tr>\n",
       "      <th>7559</th>\n",
       "      <td>7.184684</td>\n",
       "      <td>5.051793</td>\n",
       "      <td>3.363571</td>\n",
       "      <td>13.314201</td>\n",
       "      <td>9.301033</td>\n",
       "      <td>10.496836</td>\n",
       "      <td>10.309579</td>\n",
       "      <td>9.163424</td>\n",
       "      <td>1.673159</td>\n",
       "      <td>4.596237</td>\n",
       "      <td>...</td>\n",
       "      <td>2.530346</td>\n",
       "      <td>2.960351</td>\n",
       "      <td>5.147677</td>\n",
       "      <td>8.435103</td>\n",
       "      <td>12.734356</td>\n",
       "      <td>1.724800</td>\n",
       "      <td>9.488414</td>\n",
       "      <td>7.819582</td>\n",
       "      <td>1.372688</td>\n",
       "      <td>8.953457</td>\n",
       "    </tr>\n",
       "    <tr>\n",
       "      <th>7560</th>\n",
       "      <td>7.297262</td>\n",
       "      <td>4.991664</td>\n",
       "      <td>3.394258</td>\n",
       "      <td>13.399119</td>\n",
       "      <td>9.174033</td>\n",
       "      <td>10.582339</td>\n",
       "      <td>10.286710</td>\n",
       "      <td>9.179564</td>\n",
       "      <td>1.680258</td>\n",
       "      <td>4.617984</td>\n",
       "      <td>...</td>\n",
       "      <td>2.539797</td>\n",
       "      <td>2.988271</td>\n",
       "      <td>5.218898</td>\n",
       "      <td>8.484473</td>\n",
       "      <td>12.795897</td>\n",
       "      <td>1.735803</td>\n",
       "      <td>9.595441</td>\n",
       "      <td>7.777845</td>\n",
       "      <td>1.383395</td>\n",
       "      <td>8.875850</td>\n",
       "    </tr>\n",
       "  </tbody>\n",
       "</table>\n",
       "<p>7561 rows × 500 columns</p>\n",
       "</div>"
      ],
      "text/plain": [
       "           0         1         2          3         4          5          6    \\\n",
       "0     1.000000  1.000000  1.000000   1.000000  1.000000   1.000000   1.000000   \n",
       "1     0.998011  0.983076  1.004183   1.009847  1.003713   1.004511   1.008503   \n",
       "2     0.989724  0.994777  0.995013   1.005553  0.994930   1.014857   1.005804   \n",
       "3     0.990099  0.990673  0.992266   0.997419  0.996998   1.000087   0.998314   \n",
       "4     0.998778  0.994333  0.986911   1.001270  0.988013   1.003680   0.997947   \n",
       "...        ...       ...       ...        ...       ...        ...        ...   \n",
       "7556  6.980340  5.059923  3.427806  13.201103  9.260000  10.525763  10.162535   \n",
       "7557  7.074249  5.009718  3.401549  13.425052  9.260873  10.520860  10.242041   \n",
       "7558  7.086779  5.005081  3.389484  13.362528  9.241569  10.367322  10.295893   \n",
       "7559  7.184684  5.051793  3.363571  13.314201  9.301033  10.496836  10.309579   \n",
       "7560  7.297262  4.991664  3.394258  13.399119  9.174033  10.582339  10.286710   \n",
       "\n",
       "           7         8         9    ...       490       491       492  \\\n",
       "0     1.000000  1.000000  1.000000  ...  1.000000  1.000000  1.000000   \n",
       "1     1.011692  0.987733  1.000460  ...  1.004620  1.009721  1.008370   \n",
       "2     1.003348  0.978338  0.997051  ...  1.003558  1.020038  1.014408   \n",
       "3     0.987066  0.972693  1.016428  ...  0.992630  1.047247  1.024024   \n",
       "4     0.999740  0.968292  1.024653  ...  0.996876  1.054566  1.014447   \n",
       "...        ...       ...       ...  ...       ...       ...       ...   \n",
       "7556  9.181684  1.648904  4.576872  ...  2.547402  2.987653  4.953931   \n",
       "7557  9.141594  1.652430  4.580780  ...  2.525636  2.997205  5.029373   \n",
       "7558  9.119680  1.669296  4.550841  ...  2.551553  2.951422  5.097235   \n",
       "7559  9.163424  1.673159  4.596237  ...  2.530346  2.960351  5.147677   \n",
       "7560  9.179564  1.680258  4.617984  ...  2.539797  2.988271  5.218898   \n",
       "\n",
       "           493        494       495       496       497       498       499  \n",
       "0     1.000000   1.000000  1.000000  1.000000  1.000000  1.000000  1.000000  \n",
       "1     0.996782   0.995922  1.007920  1.001190  0.994938  1.001856  1.008471  \n",
       "2     1.001316   1.007309  0.988176  0.992806  0.985673  0.986247  0.989684  \n",
       "3     1.010421   1.010478  0.995117  1.001008  0.976879  0.990537  0.971885  \n",
       "4     1.004406   0.992143  1.006438  0.994652  0.984386  0.995759  0.964673  \n",
       "...        ...        ...       ...       ...       ...       ...       ...  \n",
       "7556  8.313572  13.065802  1.766151  9.320621  7.731873  1.374485  9.047611  \n",
       "7557  8.320551  13.001184  1.777098  9.452877  7.772597  1.375439  8.982018  \n",
       "7558  8.332138  12.874178  1.751788  9.473782  7.776671  1.376414  9.054519  \n",
       "7559  8.435103  12.734356  1.724800  9.488414  7.819582  1.372688  8.953457  \n",
       "7560  8.484473  12.795897  1.735803  9.595441  7.777845  1.383395  8.875850  \n",
       "\n",
       "[7561 rows x 500 columns]"
      ]
     },
     "execution_count": 223,
     "metadata": {},
     "output_type": "execute_result"
    }
   ],
   "source": [
    "# Run the Monte Carlo simulation to forecast 30 years cumulative returns\n",
    "mc_30_years.calc_cumulative_return()"
   ]
  },
  {
   "cell_type": "code",
   "execution_count": 230,
   "metadata": {},
   "outputs": [
    {
     "data": {
      "text/plain": [
       "<AxesSubplot:title={'center':'500 Simulations of Cumulative Portfolio Return Trajectories Over the Next 7560 Trading Days.'}>"
      ]
     },
     "execution_count": 230,
     "metadata": {},
     "output_type": "execute_result"
    },
    {
     "data": {
      "image/png": "[encoded data removed]",
      "text/plain": [
       "<Figure size 432x288 with 1 Axes>"
      ]
     },
     "metadata": {
      "needs_background": "light"
     },
     "output_type": "display_data"
    }
   ],
   "source": [
    "mc_30_years.plot_simulation() "
   ]
  },
  {
   "cell_type": "markdown",
   "metadata": {},
   "source": [
    "#### Step 3: Plot the probability distribution of the Monte Carlo simulation."
   ]
  },
  {
   "cell_type": "code",
   "execution_count": 231,
   "metadata": {},
   "outputs": [
    {
     "data": {
      "text/plain": [
       "<AxesSubplot:title={'center':'Distribution of Final Cumuluative Returns Across All 500 Simulations'}, ylabel='Frequency'>"
      ]
     },
     "execution_count": 231,
     "metadata": {},
     "output_type": "execute_result"
    },
    {
     "data": {
      "image/png": "[encoded data removed]",
      "text/plain": [
       "<Figure size 432x288 with 1 Axes>"
      ]
     },
     "metadata": {
      "needs_background": "light"
     },
     "output_type": "display_data"
    }
   ],
   "source": [
    "# Visualize the probability distribution of the 30-year Monte Carlo simulation \n",
    "# by plotting a histogram\n",
    "mc_30_years.plot_distribution()"
   ]
  },
  {
   "cell_type": "markdown",
   "metadata": {},
   "source": [
    "#### Step 4: Generate the summary statistics for the Monte Carlo simulation."
   ]
  },
  {
   "cell_type": "code",
   "execution_count": 239,
   "metadata": {},
   "outputs": [
    {
     "name": "stdout",
     "output_type": "stream",
     "text": [
      "count           500.000000\n",
      "mean              6.340217\n",
      "std               5.161710\n",
      "min               0.420808\n",
      "25%               2.733913\n",
      "50%               4.800176\n",
      "75%               8.618088\n",
      "max              36.125328\n",
      "95% CI Lower      0.945837\n",
      "95% CI Upper     19.651806\n",
      "Name: 7560, dtype: float64\n"
     ]
    }
   ],
   "source": [
    "# Generate summary statistics from the 30-year Monte Carlo simulation results\n",
    "# Save the results as a variable\n",
    "mc_30_years = mc_30_years.summarize_cumulative_return()\n",
    "\n",
    "# Review the 30-year Monte Carlo summary statistics\n",
    "print(mc_30_years)"
   ]
  },
  {
   "cell_type": "markdown",
   "metadata": {},
   "source": [
    "### Analyze the Retirement Portfolio Forecasts\n",
    "\n",
    "Using the current value of only the stock and bond portion of the member's portfolio and the summary statistics that you generated from the Monte Carlo simulation, answer the following question in your Jupyter notebook:\n",
    "\n",
    "-  What are the lower and upper bounds for the expected value of the portfolio with a 95% confidence interval?\n"
   ]
  },
  {
   "cell_type": "code",
   "execution_count": 251,
   "metadata": {},
   "outputs": [
    {
     "data": {
      "text/plain": [
       "63218.4"
      ]
     },
     "execution_count": 251,
     "metadata": {},
     "output_type": "execute_result"
    }
   ],
   "source": [
    "# Print the current balance of the stock and bond portion of the members portfolio\n",
    "stock_bond = savings_df['amount']['stock/bond']\n",
    "stock_bond"
   ]
  },
  {
   "cell_type": "code",
   "execution_count": 253,
   "metadata": {},
   "outputs": [
    {
     "name": "stdout",
     "output_type": "stream",
     "text": [
      "59794.3\n",
      "1242355.71\n"
     ]
    }
   ],
   "source": [
    "# Use the lower and upper `95%` confidence intervals to calculate the range of the possible outcomes for the current stock/bond portfolio\n",
    "ci_lower_thirty_cumulative_return = round(mc_30_years[8] * stock_bond, 2)\n",
    "ci_upper_thirty_cumulative_return = round(mc_30_years[9] * stock_bond, 2)\n",
    "\n",
    "# Print the result of your calculations\n",
    "print(ci_lower_thirty_cumulative_return)\n",
    "print(ci_upper_thirty_cumulative_return)"
   ]
  },
  {
   "cell_type": "markdown",
   "metadata": {},
   "source": [
    "### Forecast Cumulative Returns in 10 Years\n",
    "\n",
    "The CTO of the credit union is impressed with your work on these planning tools but wonders if 30 years is a long time to wait until retirement. So, your next task is to adjust the retirement portfolio and run a new Monte Carlo simulation to find out if the changes will allow members to retire earlier.\n",
    "\n",
    "For this new Monte Carlo simulation, do the following: \n",
    "\n",
    "- Forecast the cumulative returns for 10 years from now. Because of the shortened investment horizon (30 years to 10 years), the portfolio needs to invest more heavily in the riskier asset&mdash;that is, stock&mdash;to help accumulate wealth for retirement. \n",
    "\n",
    "- Adjust the weights of the retirement portfolio so that the composition for the Monte Carlo simulation consists of 20% bonds and 80% stocks. \n",
    "\n",
    "- Run the simulation over 500 samples, and use the same data that the API call to Alpaca generated.\n",
    "\n",
    "- Based on the new Monte Carlo simulation, answer the following questions in your Jupyter notebook:\n",
    "\n",
    "    - Using the current value of only the stock and bond portion of the member's portfolio and the summary statistics that you generated from the new Monte Carlo simulation, what are the lower and upper bounds for the expected value of the portfolio (with the new weights) with a 95% confidence interval?\n",
    "\n",
    "    - Will weighting the portfolio more heavily toward stocks allow the credit union members to retire after only 10 years?\n"
   ]
  },
  {
   "cell_type": "code",
   "execution_count": 257,
   "metadata": {},
   "outputs": [
    {
     "data": {
      "text/html": [
       "<div>\n",
       "<style scoped>\n",
       "    .dataframe tbody tr th:only-of-type {\n",
       "        vertical-align: middle;\n",
       "    }\n",
       "\n",
       "    .dataframe tbody tr th {\n",
       "        vertical-align: top;\n",
       "    }\n",
       "\n",
       "    .dataframe thead tr th {\n",
       "        text-align: left;\n",
       "    }\n",
       "\n",
       "    .dataframe thead tr:last-of-type th {\n",
       "        text-align: right;\n",
       "    }\n",
       "</style>\n",
       "<table border=\"1\" class=\"dataframe\">\n",
       "  <thead>\n",
       "    <tr>\n",
       "      <th></th>\n",
       "      <th colspan=\"8\" halign=\"left\">SPY</th>\n",
       "      <th colspan=\"8\" halign=\"left\">AGG</th>\n",
       "    </tr>\n",
       "    <tr>\n",
       "      <th></th>\n",
       "      <th>open</th>\n",
       "      <th>high</th>\n",
       "      <th>low</th>\n",
       "      <th>close</th>\n",
       "      <th>volume</th>\n",
       "      <th>trade_count</th>\n",
       "      <th>vwap</th>\n",
       "      <th>daily_return</th>\n",
       "      <th>open</th>\n",
       "      <th>high</th>\n",
       "      <th>low</th>\n",
       "      <th>close</th>\n",
       "      <th>volume</th>\n",
       "      <th>trade_count</th>\n",
       "      <th>vwap</th>\n",
       "      <th>daily_return</th>\n",
       "    </tr>\n",
       "    <tr>\n",
       "      <th>timestamp</th>\n",
       "      <th></th>\n",
       "      <th></th>\n",
       "      <th></th>\n",
       "      <th></th>\n",
       "      <th></th>\n",
       "      <th></th>\n",
       "      <th></th>\n",
       "      <th></th>\n",
       "      <th></th>\n",
       "      <th></th>\n",
       "      <th></th>\n",
       "      <th></th>\n",
       "      <th></th>\n",
       "      <th></th>\n",
       "      <th></th>\n",
       "      <th></th>\n",
       "    </tr>\n",
       "  </thead>\n",
       "  <tbody>\n",
       "    <tr>\n",
       "      <th>2019-09-03 04:00:00+00:00</th>\n",
       "      <td>290.56</td>\n",
       "      <td>291.580</td>\n",
       "      <td>289.270</td>\n",
       "      <td>290.74</td>\n",
       "      <td>69233875</td>\n",
       "      <td>362212</td>\n",
       "      <td>290.492676</td>\n",
       "      <td>NaN</td>\n",
       "      <td>113.84</td>\n",
       "      <td>114.1200</td>\n",
       "      <td>113.690</td>\n",
       "      <td>113.84</td>\n",
       "      <td>6197557</td>\n",
       "      <td>24789</td>\n",
       "      <td>113.939811</td>\n",
       "      <td>NaN</td>\n",
       "    </tr>\n",
       "    <tr>\n",
       "      <th>2019-09-04 04:00:00+00:00</th>\n",
       "      <td>293.15</td>\n",
       "      <td>294.055</td>\n",
       "      <td>292.310</td>\n",
       "      <td>294.04</td>\n",
       "      <td>47160461</td>\n",
       "      <td>236850</td>\n",
       "      <td>293.322384</td>\n",
       "      <td>0.011350</td>\n",
       "      <td>113.82</td>\n",
       "      <td>114.0801</td>\n",
       "      <td>113.820</td>\n",
       "      <td>114.04</td>\n",
       "      <td>3814413</td>\n",
       "      <td>15256</td>\n",
       "      <td>114.008878</td>\n",
       "      <td>0.001757</td>\n",
       "    </tr>\n",
       "    <tr>\n",
       "      <th>2019-09-05 04:00:00+00:00</th>\n",
       "      <td>296.78</td>\n",
       "      <td>298.830</td>\n",
       "      <td>294.001</td>\n",
       "      <td>297.82</td>\n",
       "      <td>83356779</td>\n",
       "      <td>377089</td>\n",
       "      <td>297.528062</td>\n",
       "      <td>0.012855</td>\n",
       "      <td>113.61</td>\n",
       "      <td>113.6700</td>\n",
       "      <td>113.300</td>\n",
       "      <td>113.55</td>\n",
       "      <td>5336501</td>\n",
       "      <td>19147</td>\n",
       "      <td>113.455162</td>\n",
       "      <td>-0.004297</td>\n",
       "    </tr>\n",
       "    <tr>\n",
       "      <th>2019-09-06 04:00:00+00:00</th>\n",
       "      <td>298.21</td>\n",
       "      <td>298.760</td>\n",
       "      <td>297.420</td>\n",
       "      <td>298.05</td>\n",
       "      <td>49676444</td>\n",
       "      <td>255431</td>\n",
       "      <td>298.223331</td>\n",
       "      <td>0.000772</td>\n",
       "      <td>113.66</td>\n",
       "      <td>113.7199</td>\n",
       "      <td>113.555</td>\n",
       "      <td>113.67</td>\n",
       "      <td>3675151</td>\n",
       "      <td>12845</td>\n",
       "      <td>113.658735</td>\n",
       "      <td>0.001057</td>\n",
       "    </tr>\n",
       "    <tr>\n",
       "      <th>2019-09-09 04:00:00+00:00</th>\n",
       "      <td>299.15</td>\n",
       "      <td>299.240</td>\n",
       "      <td>297.160</td>\n",
       "      <td>298.20</td>\n",
       "      <td>51260290</td>\n",
       "      <td>241462</td>\n",
       "      <td>298.158399</td>\n",
       "      <td>0.000503</td>\n",
       "      <td>113.39</td>\n",
       "      <td>113.3900</td>\n",
       "      <td>113.180</td>\n",
       "      <td>113.19</td>\n",
       "      <td>2747454</td>\n",
       "      <td>10594</td>\n",
       "      <td>113.266602</td>\n",
       "      <td>-0.004223</td>\n",
       "    </tr>\n",
       "  </tbody>\n",
       "</table>\n",
       "</div>"
      ],
      "text/plain": [
       "                              SPY                                      \\\n",
       "                             open     high      low   close    volume   \n",
       "timestamp                                                               \n",
       "2019-09-03 04:00:00+00:00  290.56  291.580  289.270  290.74  69233875   \n",
       "2019-09-04 04:00:00+00:00  293.15  294.055  292.310  294.04  47160461   \n",
       "2019-09-05 04:00:00+00:00  296.78  298.830  294.001  297.82  83356779   \n",
       "2019-09-06 04:00:00+00:00  298.21  298.760  297.420  298.05  49676444   \n",
       "2019-09-09 04:00:00+00:00  299.15  299.240  297.160  298.20  51260290   \n",
       "\n",
       "                                                                   AGG  \\\n",
       "                          trade_count        vwap daily_return    open   \n",
       "timestamp                                                                \n",
       "2019-09-03 04:00:00+00:00      362212  290.492676          NaN  113.84   \n",
       "2019-09-04 04:00:00+00:00      236850  293.322384     0.011350  113.82   \n",
       "2019-09-05 04:00:00+00:00      377089  297.528062     0.012855  113.61   \n",
       "2019-09-06 04:00:00+00:00      255431  298.223331     0.000772  113.66   \n",
       "2019-09-09 04:00:00+00:00      241462  298.158399     0.000503  113.39   \n",
       "\n",
       "                                                                           \\\n",
       "                               high      low   close   volume trade_count   \n",
       "timestamp                                                                   \n",
       "2019-09-03 04:00:00+00:00  114.1200  113.690  113.84  6197557       24789   \n",
       "2019-09-04 04:00:00+00:00  114.0801  113.820  114.04  3814413       15256   \n",
       "2019-09-05 04:00:00+00:00  113.6700  113.300  113.55  5336501       19147   \n",
       "2019-09-06 04:00:00+00:00  113.7199  113.555  113.67  3675151       12845   \n",
       "2019-09-09 04:00:00+00:00  113.3900  113.180  113.19  2747454       10594   \n",
       "\n",
       "                                                    \n",
       "                                 vwap daily_return  \n",
       "timestamp                                           \n",
       "2019-09-03 04:00:00+00:00  113.939811          NaN  \n",
       "2019-09-04 04:00:00+00:00  114.008878     0.001757  \n",
       "2019-09-05 04:00:00+00:00  113.455162    -0.004297  \n",
       "2019-09-06 04:00:00+00:00  113.658735     0.001057  \n",
       "2019-09-09 04:00:00+00:00  113.266602    -0.004223  "
      ]
     },
     "execution_count": 257,
     "metadata": {},
     "output_type": "execute_result"
    }
   ],
   "source": [
    "# Configure a Monte Carlo simulation to forecast 10 years cumulative returns\n",
    "# The weights should be split 20% to AGG and 80% to SPY.\n",
    "# Run 500 samples.\n",
    "mc_10_years = MCSimulation(\n",
    "    portfolio_data=df_portfolio,\n",
    "    weights=[0.80, 0.20],\n",
    "    num_simulation=500,\n",
    "    num_trading_days=10 * 252\n",
    ")\n",
    "# Review the simulation input data\n",
    "mc_10_years.portfolio_data.head()"
   ]
  },
  {
   "cell_type": "code",
   "execution_count": 261,
   "metadata": {},
   "outputs": [
    {
     "name": "stdout",
     "output_type": "stream",
     "text": [
      "Running Monte Carlo simulation number 0.\n",
      "Running Monte Carlo simulation number 10.\n",
      "Running Monte Carlo simulation number 20.\n",
      "Running Monte Carlo simulation number 30.\n",
      "Running Monte Carlo simulation number 40.\n",
      "Running Monte Carlo simulation number 50.\n",
      "Running Monte Carlo simulation number 60.\n",
      "Running Monte Carlo simulation number 70.\n",
      "Running Monte Carlo simulation number 80.\n",
      "Running Monte Carlo simulation number 90.\n",
      "Running Monte Carlo simulation number 100.\n",
      "Running Monte Carlo simulation number 110.\n",
      "Running Monte Carlo simulation number 120.\n",
      "Running Monte Carlo simulation number 130.\n",
      "Running Monte Carlo simulation number 140.\n",
      "Running Monte Carlo simulation number 150.\n",
      "Running Monte Carlo simulation number 160.\n",
      "Running Monte Carlo simulation number 170.\n",
      "Running Monte Carlo simulation number 180.\n",
      "Running Monte Carlo simulation number 190.\n",
      "Running Monte Carlo simulation number 200.\n",
      "Running Monte Carlo simulation number 210.\n",
      "Running Monte Carlo simulation number 220.\n",
      "Running Monte Carlo simulation number 230.\n",
      "Running Monte Carlo simulation number 240.\n",
      "Running Monte Carlo simulation number 250.\n",
      "Running Monte Carlo simulation number 260.\n",
      "Running Monte Carlo simulation number 270.\n",
      "Running Monte Carlo simulation number 280.\n",
      "Running Monte Carlo simulation number 290.\n",
      "Running Monte Carlo simulation number 300.\n",
      "Running Monte Carlo simulation number 310.\n",
      "Running Monte Carlo simulation number 320.\n",
      "Running Monte Carlo simulation number 330.\n",
      "Running Monte Carlo simulation number 340.\n",
      "Running Monte Carlo simulation number 350.\n",
      "Running Monte Carlo simulation number 360.\n",
      "Running Monte Carlo simulation number 370.\n",
      "Running Monte Carlo simulation number 380.\n",
      "Running Monte Carlo simulation number 390.\n",
      "Running Monte Carlo simulation number 400.\n",
      "Running Monte Carlo simulation number 410.\n",
      "Running Monte Carlo simulation number 420.\n",
      "Running Monte Carlo simulation number 430.\n",
      "Running Monte Carlo simulation number 440.\n",
      "Running Monte Carlo simulation number 450.\n",
      "Running Monte Carlo simulation number 460.\n",
      "Running Monte Carlo simulation number 470.\n",
      "Running Monte Carlo simulation number 480.\n",
      "Running Monte Carlo simulation number 490.\n"
     ]
    },
    {
     "data": {
      "text/html": [
       "<div>\n",
       "<style scoped>\n",
       "    .dataframe tbody tr th:only-of-type {\n",
       "        vertical-align: middle;\n",
       "    }\n",
       "\n",
       "    .dataframe tbody tr th {\n",
       "        vertical-align: top;\n",
       "    }\n",
       "\n",
       "    .dataframe thead th {\n",
       "        text-align: right;\n",
       "    }\n",
       "</style>\n",
       "<table border=\"1\" class=\"dataframe\">\n",
       "  <thead>\n",
       "    <tr style=\"text-align: right;\">\n",
       "      <th></th>\n",
       "      <th>0</th>\n",
       "      <th>1</th>\n",
       "      <th>2</th>\n",
       "      <th>3</th>\n",
       "      <th>4</th>\n",
       "      <th>5</th>\n",
       "      <th>6</th>\n",
       "      <th>7</th>\n",
       "      <th>8</th>\n",
       "      <th>9</th>\n",
       "      <th>...</th>\n",
       "      <th>490</th>\n",
       "      <th>491</th>\n",
       "      <th>492</th>\n",
       "      <th>493</th>\n",
       "      <th>494</th>\n",
       "      <th>495</th>\n",
       "      <th>496</th>\n",
       "      <th>497</th>\n",
       "      <th>498</th>\n",
       "      <th>499</th>\n",
       "    </tr>\n",
       "  </thead>\n",
       "  <tbody>\n",
       "    <tr>\n",
       "      <th>0</th>\n",
       "      <td>1.000000</td>\n",
       "      <td>1.000000</td>\n",
       "      <td>1.000000</td>\n",
       "      <td>1.000000</td>\n",
       "      <td>1.000000</td>\n",
       "      <td>1.000000</td>\n",
       "      <td>1.000000</td>\n",
       "      <td>1.000000</td>\n",
       "      <td>1.000000</td>\n",
       "      <td>1.000000</td>\n",
       "      <td>...</td>\n",
       "      <td>1.000000</td>\n",
       "      <td>1.000000</td>\n",
       "      <td>1.000000</td>\n",
       "      <td>1.000000</td>\n",
       "      <td>1.000000</td>\n",
       "      <td>1.000000</td>\n",
       "      <td>1.000000</td>\n",
       "      <td>1.000000</td>\n",
       "      <td>1.000000</td>\n",
       "      <td>1.000000</td>\n",
       "    </tr>\n",
       "    <tr>\n",
       "      <th>1</th>\n",
       "      <td>0.999161</td>\n",
       "      <td>0.999022</td>\n",
       "      <td>0.983895</td>\n",
       "      <td>1.016776</td>\n",
       "      <td>1.006341</td>\n",
       "      <td>0.972977</td>\n",
       "      <td>0.994957</td>\n",
       "      <td>0.989709</td>\n",
       "      <td>1.013097</td>\n",
       "      <td>1.013786</td>\n",
       "      <td>...</td>\n",
       "      <td>1.004567</td>\n",
       "      <td>0.998217</td>\n",
       "      <td>1.001413</td>\n",
       "      <td>0.992399</td>\n",
       "      <td>0.994481</td>\n",
       "      <td>1.015567</td>\n",
       "      <td>1.008178</td>\n",
       "      <td>0.997105</td>\n",
       "      <td>1.012993</td>\n",
       "      <td>1.014699</td>\n",
       "    </tr>\n",
       "    <tr>\n",
       "      <th>2</th>\n",
       "      <td>0.989487</td>\n",
       "      <td>0.985262</td>\n",
       "      <td>0.973389</td>\n",
       "      <td>1.001176</td>\n",
       "      <td>1.016205</td>\n",
       "      <td>0.959226</td>\n",
       "      <td>1.002307</td>\n",
       "      <td>0.986113</td>\n",
       "      <td>0.997994</td>\n",
       "      <td>1.021146</td>\n",
       "      <td>...</td>\n",
       "      <td>1.031597</td>\n",
       "      <td>1.004369</td>\n",
       "      <td>0.992553</td>\n",
       "      <td>1.011094</td>\n",
       "      <td>1.003462</td>\n",
       "      <td>1.016030</td>\n",
       "      <td>1.011868</td>\n",
       "      <td>0.979716</td>\n",
       "      <td>1.017884</td>\n",
       "      <td>1.002386</td>\n",
       "    </tr>\n",
       "    <tr>\n",
       "      <th>3</th>\n",
       "      <td>0.977051</td>\n",
       "      <td>0.978085</td>\n",
       "      <td>0.975125</td>\n",
       "      <td>0.983442</td>\n",
       "      <td>0.999907</td>\n",
       "      <td>0.949249</td>\n",
       "      <td>0.994953</td>\n",
       "      <td>0.989385</td>\n",
       "      <td>0.992544</td>\n",
       "      <td>1.006534</td>\n",
       "      <td>...</td>\n",
       "      <td>1.042092</td>\n",
       "      <td>0.976640</td>\n",
       "      <td>0.982979</td>\n",
       "      <td>1.006170</td>\n",
       "      <td>1.015934</td>\n",
       "      <td>0.996508</td>\n",
       "      <td>0.996376</td>\n",
       "      <td>0.966181</td>\n",
       "      <td>1.035564</td>\n",
       "      <td>1.002761</td>\n",
       "    </tr>\n",
       "    <tr>\n",
       "      <th>4</th>\n",
       "      <td>0.968102</td>\n",
       "      <td>0.985874</td>\n",
       "      <td>0.982040</td>\n",
       "      <td>0.973464</td>\n",
       "      <td>0.999222</td>\n",
       "      <td>0.961058</td>\n",
       "      <td>0.993993</td>\n",
       "      <td>0.978480</td>\n",
       "      <td>1.002209</td>\n",
       "      <td>1.009062</td>\n",
       "      <td>...</td>\n",
       "      <td>1.047885</td>\n",
       "      <td>0.972673</td>\n",
       "      <td>0.985752</td>\n",
       "      <td>1.027317</td>\n",
       "      <td>0.999411</td>\n",
       "      <td>0.989795</td>\n",
       "      <td>1.001183</td>\n",
       "      <td>0.958952</td>\n",
       "      <td>1.044176</td>\n",
       "      <td>1.002409</td>\n",
       "    </tr>\n",
       "    <tr>\n",
       "      <th>...</th>\n",
       "      <td>...</td>\n",
       "      <td>...</td>\n",
       "      <td>...</td>\n",
       "      <td>...</td>\n",
       "      <td>...</td>\n",
       "      <td>...</td>\n",
       "      <td>...</td>\n",
       "      <td>...</td>\n",
       "      <td>...</td>\n",
       "      <td>...</td>\n",
       "      <td>...</td>\n",
       "      <td>...</td>\n",
       "      <td>...</td>\n",
       "      <td>...</td>\n",
       "      <td>...</td>\n",
       "      <td>...</td>\n",
       "      <td>...</td>\n",
       "      <td>...</td>\n",
       "      <td>...</td>\n",
       "      <td>...</td>\n",
       "      <td>...</td>\n",
       "    </tr>\n",
       "    <tr>\n",
       "      <th>2516</th>\n",
       "      <td>3.010996</td>\n",
       "      <td>1.211987</td>\n",
       "      <td>4.370009</td>\n",
       "      <td>0.824794</td>\n",
       "      <td>3.326672</td>\n",
       "      <td>1.836272</td>\n",
       "      <td>2.710617</td>\n",
       "      <td>3.121947</td>\n",
       "      <td>3.502072</td>\n",
       "      <td>2.072467</td>\n",
       "      <td>...</td>\n",
       "      <td>0.734555</td>\n",
       "      <td>2.220388</td>\n",
       "      <td>3.984415</td>\n",
       "      <td>4.081661</td>\n",
       "      <td>2.388701</td>\n",
       "      <td>3.321480</td>\n",
       "      <td>3.234706</td>\n",
       "      <td>1.737638</td>\n",
       "      <td>1.175594</td>\n",
       "      <td>1.984459</td>\n",
       "    </tr>\n",
       "    <tr>\n",
       "      <th>2517</th>\n",
       "      <td>3.012277</td>\n",
       "      <td>1.229472</td>\n",
       "      <td>4.321894</td>\n",
       "      <td>0.821100</td>\n",
       "      <td>3.326281</td>\n",
       "      <td>1.823332</td>\n",
       "      <td>2.683257</td>\n",
       "      <td>3.130844</td>\n",
       "      <td>3.513522</td>\n",
       "      <td>2.047729</td>\n",
       "      <td>...</td>\n",
       "      <td>0.725908</td>\n",
       "      <td>2.146774</td>\n",
       "      <td>3.886270</td>\n",
       "      <td>3.964484</td>\n",
       "      <td>2.371541</td>\n",
       "      <td>3.229842</td>\n",
       "      <td>3.243060</td>\n",
       "      <td>1.702312</td>\n",
       "      <td>1.173363</td>\n",
       "      <td>2.017320</td>\n",
       "    </tr>\n",
       "    <tr>\n",
       "      <th>2518</th>\n",
       "      <td>3.025384</td>\n",
       "      <td>1.210510</td>\n",
       "      <td>4.250202</td>\n",
       "      <td>0.812330</td>\n",
       "      <td>3.449252</td>\n",
       "      <td>1.839387</td>\n",
       "      <td>2.658700</td>\n",
       "      <td>3.099859</td>\n",
       "      <td>3.580609</td>\n",
       "      <td>2.070267</td>\n",
       "      <td>...</td>\n",
       "      <td>0.735503</td>\n",
       "      <td>2.151861</td>\n",
       "      <td>3.895738</td>\n",
       "      <td>4.022294</td>\n",
       "      <td>2.372121</td>\n",
       "      <td>3.310280</td>\n",
       "      <td>3.240979</td>\n",
       "      <td>1.704070</td>\n",
       "      <td>1.161119</td>\n",
       "      <td>2.019270</td>\n",
       "    </tr>\n",
       "    <tr>\n",
       "      <th>2519</th>\n",
       "      <td>2.993638</td>\n",
       "      <td>1.199525</td>\n",
       "      <td>4.220984</td>\n",
       "      <td>0.805458</td>\n",
       "      <td>3.442070</td>\n",
       "      <td>1.841510</td>\n",
       "      <td>2.672629</td>\n",
       "      <td>3.144502</td>\n",
       "      <td>3.576622</td>\n",
       "      <td>2.069589</td>\n",
       "      <td>...</td>\n",
       "      <td>0.745326</td>\n",
       "      <td>2.114244</td>\n",
       "      <td>3.857526</td>\n",
       "      <td>4.049493</td>\n",
       "      <td>2.339499</td>\n",
       "      <td>3.346451</td>\n",
       "      <td>3.232600</td>\n",
       "      <td>1.714108</td>\n",
       "      <td>1.200129</td>\n",
       "      <td>2.012131</td>\n",
       "    </tr>\n",
       "    <tr>\n",
       "      <th>2520</th>\n",
       "      <td>2.945417</td>\n",
       "      <td>1.219502</td>\n",
       "      <td>4.191552</td>\n",
       "      <td>0.786834</td>\n",
       "      <td>3.431858</td>\n",
       "      <td>1.818066</td>\n",
       "      <td>2.722597</td>\n",
       "      <td>3.079918</td>\n",
       "      <td>3.543173</td>\n",
       "      <td>2.047620</td>\n",
       "      <td>...</td>\n",
       "      <td>0.748580</td>\n",
       "      <td>2.115445</td>\n",
       "      <td>3.894035</td>\n",
       "      <td>3.987861</td>\n",
       "      <td>2.301853</td>\n",
       "      <td>3.330805</td>\n",
       "      <td>3.164583</td>\n",
       "      <td>1.726498</td>\n",
       "      <td>1.194266</td>\n",
       "      <td>1.998693</td>\n",
       "    </tr>\n",
       "  </tbody>\n",
       "</table>\n",
       "<p>2521 rows × 500 columns</p>\n",
       "</div>"
      ],
      "text/plain": [
       "           0         1         2         3         4         5         6    \\\n",
       "0     1.000000  1.000000  1.000000  1.000000  1.000000  1.000000  1.000000   \n",
       "1     0.999161  0.999022  0.983895  1.016776  1.006341  0.972977  0.994957   \n",
       "2     0.989487  0.985262  0.973389  1.001176  1.016205  0.959226  1.002307   \n",
       "3     0.977051  0.978085  0.975125  0.983442  0.999907  0.949249  0.994953   \n",
       "4     0.968102  0.985874  0.982040  0.973464  0.999222  0.961058  0.993993   \n",
       "...        ...       ...       ...       ...       ...       ...       ...   \n",
       "2516  3.010996  1.211987  4.370009  0.824794  3.326672  1.836272  2.710617   \n",
       "2517  3.012277  1.229472  4.321894  0.821100  3.326281  1.823332  2.683257   \n",
       "2518  3.025384  1.210510  4.250202  0.812330  3.449252  1.839387  2.658700   \n",
       "2519  2.993638  1.199525  4.220984  0.805458  3.442070  1.841510  2.672629   \n",
       "2520  2.945417  1.219502  4.191552  0.786834  3.431858  1.818066  2.722597   \n",
       "\n",
       "           7         8         9    ...       490       491       492  \\\n",
       "0     1.000000  1.000000  1.000000  ...  1.000000  1.000000  1.000000   \n",
       "1     0.989709  1.013097  1.013786  ...  1.004567  0.998217  1.001413   \n",
       "2     0.986113  0.997994  1.021146  ...  1.031597  1.004369  0.992553   \n",
       "3     0.989385  0.992544  1.006534  ...  1.042092  0.976640  0.982979   \n",
       "4     0.978480  1.002209  1.009062  ...  1.047885  0.972673  0.985752   \n",
       "...        ...       ...       ...  ...       ...       ...       ...   \n",
       "2516  3.121947  3.502072  2.072467  ...  0.734555  2.220388  3.984415   \n",
       "2517  3.130844  3.513522  2.047729  ...  0.725908  2.146774  3.886270   \n",
       "2518  3.099859  3.580609  2.070267  ...  0.735503  2.151861  3.895738   \n",
       "2519  3.144502  3.576622  2.069589  ...  0.745326  2.114244  3.857526   \n",
       "2520  3.079918  3.543173  2.047620  ...  0.748580  2.115445  3.894035   \n",
       "\n",
       "           493       494       495       496       497       498       499  \n",
       "0     1.000000  1.000000  1.000000  1.000000  1.000000  1.000000  1.000000  \n",
       "1     0.992399  0.994481  1.015567  1.008178  0.997105  1.012993  1.014699  \n",
       "2     1.011094  1.003462  1.016030  1.011868  0.979716  1.017884  1.002386  \n",
       "3     1.006170  1.015934  0.996508  0.996376  0.966181  1.035564  1.002761  \n",
       "4     1.027317  0.999411  0.989795  1.001183  0.958952  1.044176  1.002409  \n",
       "...        ...       ...       ...       ...       ...       ...       ...  \n",
       "2516  4.081661  2.388701  3.321480  3.234706  1.737638  1.175594  1.984459  \n",
       "2517  3.964484  2.371541  3.229842  3.243060  1.702312  1.173363  2.017320  \n",
       "2518  4.022294  2.372121  3.310280  3.240979  1.704070  1.161119  2.019270  \n",
       "2519  4.049493  2.339499  3.346451  3.232600  1.714108  1.200129  2.012131  \n",
       "2520  3.987861  2.301853  3.330805  3.164583  1.726498  1.194266  1.998693  \n",
       "\n",
       "[2521 rows x 500 columns]"
      ]
     },
     "execution_count": 261,
     "metadata": {},
     "output_type": "execute_result"
    }
   ],
   "source": [
    "# Run the Monte Carlo simulation to forecast 10 years cumulative returns\n",
    "mc_10_years.calc_cumulative_return()"
   ]
  },
  {
   "cell_type": "code",
   "execution_count": 262,
   "metadata": {},
   "outputs": [
    {
     "data": {
      "text/plain": [
       "<AxesSubplot:title={'center':'500 Simulations of Cumulative Portfolio Return Trajectories Over the Next 2520 Trading Days.'}>"
      ]
     },
     "execution_count": 262,
     "metadata": {},
     "output_type": "execute_result"
    },
    {
     "data": {
      "image/png": "[encoded data removed]",
      "text/plain": [
       "<Figure size 432x288 with 1 Axes>"
      ]
     },
     "metadata": {
      "needs_background": "light"
     },
     "output_type": "display_data"
    }
   ],
   "source": [
    "# Visualize the 10-year Monte Carlo simulation by creating an\n",
    "# overlay line plot\n",
    "mc_10_years.plot_simulation()"
   ]
  },
  {
   "cell_type": "code",
   "execution_count": 264,
   "metadata": {},
   "outputs": [
    {
     "data": {
      "text/plain": [
       "<AxesSubplot:title={'center':'Distribution of Final Cumuluative Returns Across All 500 Simulations'}, ylabel='Frequency'>"
      ]
     },
     "execution_count": 264,
     "metadata": {},
     "output_type": "execute_result"
    },
    {
     "data": {
      "image/png": "[encoded data removed]",
      "text/plain": [
       "<Figure size 432x288 with 1 Axes>"
      ]
     },
     "metadata": {
      "needs_background": "light"
     },
     "output_type": "display_data"
    }
   ],
   "source": [
    "# Visualize the probability distribution of the 10-year Monte Carlo simulation \n",
    "# by plotting a histogram\n",
    "mc_10_years.plot_distribution()"
   ]
  },
  {
   "cell_type": "code",
   "execution_count": 265,
   "metadata": {},
   "outputs": [
    {
     "data": {
      "text/plain": [
       "count           500.000000\n",
       "mean              2.491774\n",
       "std               1.905821\n",
       "min               0.297227\n",
       "25%               1.425212\n",
       "50%               2.079629\n",
       "75%               3.078522\n",
       "max              23.206583\n",
       "95% CI Lower      0.644806\n",
       "95% CI Upper      6.296226\n",
       "Name: 2520, dtype: float64"
      ]
     },
     "execution_count": 265,
     "metadata": {},
     "output_type": "execute_result"
    }
   ],
   "source": [
    "# Generate summary statistics from the 10-year Monte Carlo simulation results\n",
    "# Save the results as a variable\n",
    "mc_10_years = mc_10_years.summarize_cumulative_return()\n",
    "\n",
    "# Review the 10-year Monte Carlo summary statistics\n",
    "mc_10_years"
   ]
  },
  {
   "cell_type": "markdown",
   "metadata": {},
   "source": [
    "### Answer the following questions:"
   ]
  },
  {
   "cell_type": "markdown",
   "metadata": {},
   "source": [
    "#### Question: Using the current value of only the stock and bond portion of the member's portfolio and the summary statistics that you generated from the new Monte Carlo simulation, what are the lower and upper bounds for the expected value of the portfolio (with the new weights) with a 95% confidence interval?"
   ]
  },
  {
   "cell_type": "code",
   "execution_count": 266,
   "metadata": {},
   "outputs": [
    {
     "data": {
      "text/plain": [
       "63218.4"
      ]
     },
     "execution_count": 266,
     "metadata": {},
     "output_type": "execute_result"
    }
   ],
   "source": [
    "# Print the current balance of the stock and bond portion of the members portfolio\n",
    "stock_bond"
   ]
  },
  {
   "cell_type": "code",
   "execution_count": 267,
   "metadata": {},
   "outputs": [
    {
     "name": "stdout",
     "output_type": "stream",
     "text": [
      "40763.587\n",
      "398037.32\n"
     ]
    }
   ],
   "source": [
    "# Use the lower and upper `95%` confidence intervals to calculate the range of the possible outcomes for the current stock/bond portfolio\n",
    "ci_lower_ten_cumulative_return = round(mc_10_years[8] * stock_bond, 3)\n",
    "ci_upper_ten_cumulative_return = round(mc_10_years[9] * stock_bond, 3)\n",
    "\n",
    "# Print the result of your calculations\n",
    "print(ci_lower_ten_cumulative_return)\n",
    "print(ci_upper_ten_cumulative_return)"
   ]
  },
  {
   "cell_type": "markdown",
   "metadata": {},
   "source": [
    "#### Question: Will weighting the portfolio more heavily to stocks allow the credit union members to retire after only 10 years?"
   ]
  },
  {
   "cell_type": "raw",
   "metadata": {},
   "source": [
    "**Answer** NO!"
   ]
  },
  {
   "cell_type": "code",
   "execution_count": null,
   "metadata": {},
   "outputs": [],
   "source": []
  }
 ],
 "metadata": {
  "kernelspec": {
   "display_name": "Python 3 (ipykernel)",
   "language": "python",
   "name": "python3"
  },
  "language_info": {
   "codemirror_mode": {
    "name": "ipython",
    "version": 3
   },
   "file_extension": ".py",
   "mimetype": "text/x-python",
   "name": "python",
   "nbconvert_exporter": "python",
   "pygments_lexer": "ipython3",
   "version": "3.9.12"
  }
 },
 "nbformat": 4,
 "nbformat_minor": 4
}
